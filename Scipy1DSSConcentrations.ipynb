{
 "cells": [
  {
   "cell_type": "code",
   "execution_count": 31,
   "id": "c58f35a1",
   "metadata": {},
   "outputs": [],
   "source": [
    "#1D non-isothermal\n",
    "#I think we should still convert it to molar flowrates somehow!!!\n",
    "\n",
    "'''\n",
    " - \n",
    "'''\n",
    "\n",
    "from scipy.integrate import solve_bvp\n",
    "import numpy as np\n",
    "import matplotlib.pyplot as plt"
   ]
  },
  {
   "cell_type": "code",
   "execution_count": 32,
   "id": "6de3b1a2",
   "metadata": {},
   "outputs": [],
   "source": [
    "def heats(T):\n",
    "    #heats of reaction and heat capacity calculation from NIST\n",
    "    t = T/1000\n",
    "\n",
    "    #CH4\n",
    "    A =\t-0.703029\n",
    "    B =\t108.4773\n",
    "    C =\t-42.52157\n",
    "    D =\t5.862788\n",
    "    E =\t0.678565\n",
    "    F =\t-76.84376\n",
    "    G =\t158.7163\n",
    "    H =\t-74.87310\n",
    "\n",
    "    dH_CH4 = A*t + B*t**2/2 + C*t**3/3 + D*t**4/4 - E/t + F - H\n",
    "    Cp_CH4 = A + B*t + C*t**2 + D*t**3 + E/(t**2)\n",
    "\n",
    "    #H2O\n",
    "    A =   30.09200\n",
    "    B =   6.832514\n",
    "    C =   6.793435\n",
    "    D =  -2.534480\n",
    "    E =   0.082139\n",
    "    F =  -250.8810\n",
    "    G =   223.3967\n",
    "    H =  -241.8264\n",
    "\n",
    "    dH_H2O = A*t + B*t**2/2 + C*t**3/3 + D*t**4/4 - E/t + F - H\n",
    "    Cp_H2O = A + B*t + C*t**2 + D*t**3 + E/(t**2)\n",
    "\n",
    "    #CO\n",
    "    A =   25.56759\n",
    "    B =   6.096130\n",
    "    C =   4.054656\n",
    "    D =  -2.671301\n",
    "    E =   0.131021\n",
    "    F =  -118.0089\n",
    "    G =   227.3665\n",
    "    H = -110.5271\n",
    "\n",
    "    dH_CO = A*t + B*t**2/2 + C*t**3/3 + D*t**4/4 - E/t + F - H\n",
    "    Cp_CO = A + B*t + C*t**2 + D*t**3 + E/(t**2)\n",
    "\n",
    "    #CO2\n",
    "    A =   24.99735\n",
    "    B =   55.18696\n",
    "    C =  -33.69137\n",
    "    D =   7.948387\n",
    "    E =  -0.136638\n",
    "    F =  -403.6075\n",
    "    G =   228.2431\n",
    "    H =  -393.5224\n",
    "\n",
    "    dH_CO2 = A*t + B*t**2/2 + C*t**3/3 + D*t**4/4 - E/t + F - H\n",
    "    Cp_CO2 = A + B*t + C*t**2 + D*t**3 + E/(t**2)\n",
    "\n",
    "    #H2\n",
    "    A =  33.066178\n",
    "    B = -11.363417\n",
    "    C =  11.432816\n",
    "    D = -2.772874\n",
    "    E = -0.158558\n",
    "    F = -9.980797\n",
    "    G =  172.707974\n",
    "    H =  0.0\n",
    "\n",
    "    dH_H2 = A*t + B*t**2/2 + C*t**3/3 + D*t**4/4 - E/t + F - H\n",
    "    Cp_H2 = A + B*t + C*t**2 + D*t**3 + E/(t**2)\n",
    "\n",
    "    #Ar\n",
    "    A =\t20.78600\n",
    "    B =\t2.825911*10**-7\n",
    "    C =\t-1.464191*10**-7\n",
    "    D =\t1.092131*10**-8\n",
    "    E =\t-3.661371*10**-8\n",
    "    F =\t-6.197350\n",
    "    G =\t179.9990\n",
    "    H =\t0\n",
    "\n",
    "    Cp_Ar = A + B*t + C*t**2 + D*t**3 + E/(t**2) #J/mol K\n",
    "\n",
    "    dHsmr = (3*dH_H2 + dH_CO - dH_CH4 - dH_H2O + 206.1)*10**3 #J/mol\n",
    "    dHwgs = (dH_H2 + dH_CO2 - dH_CO - dH_H2O - 41.15)*10**3 #J/mol\n",
    "    # print(dHsmr)\n",
    "    # print(dHwgs)\n",
    "    # print([Cp_CH4, Cp_H2O, Cp_CO, Cp_CO2, Cp_H2])\n",
    "    return dHsmr, dHwgs, [Cp_CH4, Cp_H2O, Cp_CO, Cp_CO2, Cp_H2, Cp_Ar]"
   ]
  },
  {
   "cell_type": "code",
   "execution_count": 33,
   "id": "ea951532",
   "metadata": {},
   "outputs": [
    {
     "name": "stdout",
     "output_type": "stream",
     "text": [
      "[2.72679841e+00 8.18039523e+00 0.00000000e+00 0.00000000e+00\n",
      " 1.68737525e+00 8.43687627e-01 8.95000000e+02]\n"
     ]
    }
   ],
   "source": [
    "#WANT TO RE-ARANGE CONSTANTS\n",
    "\n",
    "#reactor constants\n",
    "L = 0.0609 #m\n",
    "R_inner = 2.39/1000 #m\n",
    "R_outer = 3.5/1000 #m\n",
    "\n",
    "A = np.pi * ((R_outer)**2-(R_inner)**2) #m^2 AXIAL AREA (GAS FLOW)\n",
    "V = A*L #m^3\n",
    "S = 2*np.pi*R_outer*L #m^2 RADIAL AREA (HEAT FLUX AND REACTION)\n",
    "\n",
    "h2Removal = 0 #change to 1 if there is removal of hydrogen\n",
    "\n",
    "#gas flow constants WHEN CHANGING THE TEMPERATURE YOU NEED TO ADJUST THE INITIAL GUESS -- USING ODEINT MIGHT BE FOR BETTER CONVERSION\n",
    "Tin = 622+273 #K\n",
    "P = 1 #bar or atm\n",
    "\n",
    "sccm0 = np.array([16.16, 48.48, 0, 0, 10, 5])\n",
    "mols0 = sccm0/22400 * 60\n",
    "y0 = mols0/sum(mols0)\n",
    "Ctot = P/(8.3144598 * 10**-5 * Tin)\n",
    "C0 = y0*Ctot\n",
    "C0 = np.concatenate((C0, [Tin]))\n",
    "print(C0)\n",
    "\n",
    "u0 = sum(sccm0) * 273 / Tin * P / 1 / 60 #cm^3/sec\n",
    "v0 = u0 / (100**3 * A) #m/sec\n",
    "\n",
    "#rate equation constants\n",
    "Rgas = 8.314 #J / mol·K\n",
    "Easmr = 165.740 #kJ/mol\n",
    "Asmr = 1.68*10**8\n",
    "Eawgs = 89.23 #kJ/mol\n",
    "Awgs = 9.90*10**3\n",
    "\n",
    "Ku = 1\n",
    "\n",
    "I = 9 #curent in Amps\n",
    "F = 96485 #faradays constant\n",
    "\n",
    "U = 0.116 #J (s K)^-1.\n",
    "Ts = 298 #K\n",
    "\n",
    "q_furn= 20"
   ]
  },
  {
   "cell_type": "code",
   "execution_count": 34,
   "id": "ae991eb4",
   "metadata": {},
   "outputs": [
    {
     "name": "stderr",
     "output_type": "stream",
     "text": [
      "C:\\Users\\Alexa\\AppData\\Local\\Temp\\ipykernel_13308\\3508328112.py:46: RuntimeWarning: overflow encountered in exp\n",
      "  Keqsmr = (101325/100000)**2 * np.exp(-26830/T + 30.114)\n",
      "C:\\Users\\Alexa\\AppData\\Local\\Temp\\ipykernel_13308\\3508328112.py:49: RuntimeWarning: overflow encountered in exp\n",
      "  rsmr = S/V*Ku*Asmr*np.exp(-Easmr*1000/Rgas/T)*(y[0]*y[1]-(P**2)*y[2]*(y[4]**3)/Keqsmr)\n",
      "C:\\Users\\Alexa\\AppData\\Local\\Temp\\ipykernel_13308\\3508328112.py:50: RuntimeWarning: overflow encountered in multiply\n",
      "  rwgs = S/V*Ku*Awgs*np.exp(-Eawgs*1000/Rgas/T)*(y[1]*y[2]-y[3]*y[4]/Keqwgs)\n",
      "C:\\Users\\Alexa\\AppData\\Local\\Temp\\ipykernel_13308\\3508328112.py:62: RuntimeWarning: invalid value encountered in subtract\n",
      "  co = (rsmr - rwgs)/v\n",
      "C:\\Users\\Alexa\\AppData\\Local\\Temp\\ipykernel_13308\\3508328112.py:67: RuntimeWarning: invalid value encountered in add\n",
      "  Temp = (S*U*(-T[:] + Ts) - S*(dHsmr*rsmr + dHwgs*rwgs) + q_furn)/(v*Ctot*Cpg*V)\n",
      "C:\\Users\\Alexa\\AppData\\Local\\Temp\\ipykernel_13308\\3508328112.py:49: RuntimeWarning: divide by zero encountered in divide\n",
      "  rsmr = S/V*Ku*Asmr*np.exp(-Easmr*1000/Rgas/T)*(y[0]*y[1]-(P**2)*y[2]*(y[4]**3)/Keqsmr)\n",
      "C:\\Users\\Alexa\\AppData\\Local\\Temp\\ipykernel_13308\\3508328112.py:49: RuntimeWarning: invalid value encountered in multiply\n",
      "  rsmr = S/V*Ku*Asmr*np.exp(-Easmr*1000/Rgas/T)*(y[0]*y[1]-(P**2)*y[2]*(y[4]**3)/Keqsmr)\n"
     ]
    }
   ],
   "source": [
    "x_num = 50\n",
    "\n",
    "x_pts = np.linspace(0,L,x_num)\n",
    "\n",
    "#initial guess array\n",
    "init_guess = np.zeros((7, x_num))\n",
    "init_guess[6, :] = Tin\n",
    "\n",
    "if Tin == 721+273:\n",
    "    init_guess[0, :] = 0.05\n",
    "    init_guess[1, :] = 0.3\n",
    "    init_guess[2, :] = 0.1\n",
    "    init_guess[3, :] = 0.1\n",
    "    init_guess[4, :] = 0.7    \n",
    "    init_guess[5, :] = 0.1\n",
    "elif Tin == 573+273:\n",
    "    init_guess[0, :] = 0.1\n",
    "    init_guess[1, :] = 0.5 \n",
    "    init_guess[2, :] = 0.05\n",
    "    init_guess[3, :] = 0.05   \n",
    "    init_guess[4, :] = 0.3   \n",
    "    init_guess[5, :] = 0.1\n",
    "else:\n",
    "    # Tin == 622+273:\n",
    "    init_guess[0, :] = 0.2*Ctot\n",
    "    init_guess[1, :] = 0.5*Ctot\n",
    "    init_guess[2, :] = 0.1*Ctot\n",
    "    init_guess[3, :] = 0.1*Ctot\n",
    "    init_guess[4, :] = 0.5*Ctot    \n",
    "    init_guess[5, :] = 0.1*Ctot\n",
    "\n",
    "def odes(x, C): #dy/dt = f(x)\n",
    "    #NEED TO ADJUST THIS. THESE ARE NOT CONCENTRATIONS, THEY ARE MOL FRACTIONS\n",
    "    # Cch4 = C[0]\n",
    "    # Ch2o = C[1]\n",
    "    # Cco = C[2]\n",
    "    # Cco2 = C[3]\n",
    "    # Ch2 = C[4]\n",
    "    T = C[6]\n",
    "    # print(T)\n",
    "    Ctot = P/(8.3144598 * 10**-5 * T)\n",
    "\n",
    "    y = C[:6]/np.sum(C[:6], axis = 0)\n",
    "    v = v0*(-2*y[0] + 3*y0[0])/y0[0] # v0*(1+2X)\n",
    "\n",
    "    Keqsmr = (101325/100000)**2 * np.exp(-26830/T + 30.114)\n",
    "    Keqwgs = np.exp(4400/T - 4.036)\n",
    "\n",
    "    rsmr = S/V*Ku*Asmr*np.exp(-Easmr*1000/Rgas/T)*(y[0]*y[1]-(P**2)*y[2]*(y[4]**3)/Keqsmr)\n",
    "    rwgs = S/V*Ku*Awgs*np.exp(-Eawgs*1000/Rgas/T)*(y[1]*y[2]-y[3]*y[4]/Keqwgs)\n",
    "    rh2r = I/(2*F*L) #have not confirmed if this is correct\n",
    "\n",
    "    dHsmr, dHwgs, Cps = heats(T)\n",
    "    # print(dHsmr)\n",
    "    # print(dHwgs)\n",
    "\n",
    "    Cpg = np.sum(y[:6, :]*Cps, axis=0)\n",
    "    # print(Cpg)\n",
    "\n",
    "    ch4 = (-rsmr)/v\n",
    "    h2o = (-rsmr - rwgs)/v\n",
    "    co = (rsmr - rwgs)/v\n",
    "    co2 = (rwgs)/v\n",
    "    h2 = (3*rsmr + rwgs + h2Removal*rh2r)/v\n",
    "    ar = np.zeros(len(T))\n",
    "    #heat capacities are in kJ/mol so then \n",
    "    Temp = (S*U*(-T[:] + Ts) - S*(dHsmr*rsmr + dHwgs*rwgs) + q_furn)/(v*Ctot*Cpg*V)\n",
    "    \n",
    "    return np.vstack([ch4, h2o, co, co2, h2, ar, Temp])\n",
    "\n",
    "def bcs(yleft, yright):\n",
    "    return np.array(yleft-C0)\n",
    "\n",
    "soln = solve_bvp(odes, bcs, x_pts, init_guess, max_nodes=100, tol = 0.01)"
   ]
  },
  {
   "cell_type": "code",
   "execution_count": 35,
   "id": "9643018e",
   "metadata": {},
   "outputs": [
    {
     "data": {
      "text/plain": [
       "<matplotlib.legend.Legend at 0x1d5d23481d0>"
      ]
     },
     "execution_count": 35,
     "metadata": {},
     "output_type": "execute_result"
    },
    {
     "data": {
      "image/png": "[encoded data removed]",
      "text/plain": [
       "<Figure size 640x480 with 1 Axes>"
      ]
     },
     "metadata": {},
     "output_type": "display_data"
    }
   ],
   "source": [
    "plt.plot(soln.x, soln.y[0], label='y_ch4')\n",
    "plt.plot(soln.x, soln.y[1], label='y_h2o')\n",
    "plt.plot(soln.x, soln.y[2], label='y_co')\n",
    "plt.plot(soln.x, soln.y[3], label='y_co2')\n",
    "plt.plot(soln.x, soln.y[4], label='y_h2')\n",
    "plt.plot(soln.x, soln.y[5], label='y_ar')\n",
    "plt.ylim(0, 10)\n",
    "plt.xlabel('z (m)')\n",
    "plt.ylabel('y_i')\n",
    "plt.title('SS mol fractions')\n",
    "plt.legend()"
   ]
  },
  {
   "cell_type": "code",
   "execution_count": 36,
   "id": "c65d4ab3",
   "metadata": {},
   "outputs": [
    {
     "data": {
      "text/plain": [
       "Text(0.5, 1.0, 'Temperature profile')"
      ]
     },
     "execution_count": 36,
     "metadata": {},
     "output_type": "execute_result"
    },
    {
     "data": {
      "image/png": "[encoded data removed]",
      "text/plain": [
       "<Figure size 640x480 with 1 Axes>"
      ]
     },
     "metadata": {},
     "output_type": "display_data"
    }
   ],
   "source": [
    "plt.plot(soln.x, soln.y[6])\n",
    "plt.xlabel('z (m)')\n",
    "plt.ylabel('T (K)')\n",
    "plt.title('Temperature profile')"
   ]
  },
  {
   "cell_type": "code",
   "execution_count": 37,
   "id": "0bac44bf",
   "metadata": {},
   "outputs": [
    {
     "ename": "SyntaxError",
     "evalue": "invalid syntax (528248062.py, line 36)",
     "output_type": "error",
     "traceback": [
      "\u001b[1;36m  Cell \u001b[1;32mIn[37], line 36\u001b[1;36m\u001b[0m\n\u001b[1;33m    print(soln.y[:6,-1]*)\u001b[0m\n\u001b[1;37m                        ^\u001b[0m\n\u001b[1;31mSyntaxError\u001b[0m\u001b[1;31m:\u001b[0m invalid syntax\n"
     ]
    }
   ],
   "source": [
    "# Assign experimental data based on temperature\n",
    "if Tin == 622 + 273:\n",
    "    yexp = [0.071787506, 0.298008466, 0.043658696, 0.043658696, 0.495104008, 0.047782628]\n",
    "elif Tin == 721 + 273:\n",
    "    yexp = [0.019206098, 0.189598069, 0.090570208, 0.034350264, 0.619497555, 0.046777807]\n",
    "elif Tin == 573 + 273:\n",
    "    yexp = [0.101830373, 0.416886827, 0.02267593, 0.043676434, 0.365008486, 0.04992194]\n",
    "elif Tin == 522 + 273:\n",
    "    yexp = [0.135048125, 0.331577273, 0.010516725, 0.034486466, 0.436794105, 0.051577306]\n",
    "else:\n",
    "    print('Sorry, we don’t have experimental data for that temperature.')\n",
    "    yexp = [0, 0, 0, 0, 0, 0]\n",
    "\n",
    "\n",
    "# Define categories\n",
    "categories = ['ych4', 'yh2o', 'yco', 'yco2', 'yh2', 'yar']\n",
    "x = np.arange(len(categories))  # the label locations\n",
    "width = 0.35  # the width of the bars\n",
    "\n",
    "# Plot\n",
    "fig, ax = plt.subplots()\n",
    "bars1 = ax.bar(x - width/2, soln.y[:6,-1], width, label='Model')\n",
    "bars2 = ax.bar(x + width/2, yexp, width, label='Experimental')\n",
    "\n",
    "# Labels and legend\n",
    "ax.set_ylabel('y_i')\n",
    "ax.set_title(f'Accuracy of model at {Tin}K or {Tin - 273}°C')\n",
    "ax.set_xticks(x)\n",
    "ax.set_xticklabels(categories)\n",
    "ax.legend()\n",
    "\n",
    "plt.tight_layout()\n",
    "plt.show()\n",
    "\n",
    "print(np.sum(soln.y[:6,-1]))\n",
    "print(soln.y[:6,-1]*)"
   ]
  }
 ],
 "metadata": {
  "kernelspec": {
   "display_name": "Python 3",
   "language": "python",
   "name": "python3"
  },
  "language_info": {
   "codemirror_mode": {
    "name": "ipython",
    "version": 3
   },
   "file_extension": ".py",
   "mimetype": "text/x-python",
   "name": "python",
   "nbconvert_exporter": "python",
   "pygments_lexer": "ipython3",
   "version": "3.11.9"
  }
 },
 "nbformat": 4,
 "nbformat_minor": 5
}
