{
 "cells": [
  {
   "cell_type": "code",
   "execution_count": 1,
   "metadata": {},
   "outputs": [],
   "source": [
    "import numpy as np\n",
    "import matplotlib.pyplot as plt\n",
    "from pde import CartesianGrid, ScalarField, PDE"
   ]
  },
  {
   "cell_type": "code",
   "execution_count": null,
   "metadata": {},
   "outputs": [],
   "source": [
    "def Keqcalc(T):\n",
    "  R = 8.314  # J / mol·K\n",
    "\n",
    "  #CO2; CO; CH4; H2O; H2 = 00000\n",
    "  G_const = np.array([\n",
    "    [-393.4685065, -0.003212871, 1.53E-07, 9.97E-10, -3.31E-13],\n",
    "    [-110.7347984, -0.086473798, -9.63E-06, 8.56E-09, -2.11E-12],\n",
    "    [-68.77179183, 0.038329957, 9.22E-05, -5.46E-08, 1.24E-11],\n",
    "    [-240.6171143, 0.035116356, 2.02E-05, -9.33E-09, 1.78E-12]\n",
    "  ])\n",
    "  Gf = np.sum(G_const * np.array([1, T, T**2, T**3, T**4]), axis=1)\n",
    "  Keqsmr = np.exp(-(Gf[1] - Gf[2] - Gf[3]) * 1000 / (R * T))\n",
    "  Keqwgs = np.exp(-(Gf[0] - Gf[1] - Gf[3]) * 1000 / (R * T))\n",
    "  return np.array([Keqsmr, Keqwgs])"
   ]
  },
  {
   "cell_type": "code",
   "execution_count": null,
   "metadata": {},
   "outputs": [],
   "source": [
    "# Constants\n",
    "P = 3 #atm\n",
    "T = 1000  # K\n",
    "u0 = 79.64 * 273 / T * P / 1 / 60 #cm^3/sec\n",
    "A = np.pi * (3.5/10)**2 #cm^2. I assumed a 7 mm diameter\n",
    "v0 = u0 / A / 100 #m/sec\n",
    "\n",
    "Keq = np.array([101325**2 * np.exp(-26830/T + 30.114), np.exp(4400/T - 4.036)])\n",
    "#Keq = Keqcalc(T)\n",
    "\n",
    "# Stoichiometry Matrix\n",
    "nu = np.array([[-1, 0, 0], [-1, -1, 0], [1, -1, 0], [0, 1, 0], [3, 1, 1], [0, 0, 0]])\n",
    "\n",
    "#reaction constants\n",
    "gasconstant = 8.314 #J / mol·K\n",
    "Easmr = 165.740 #kJ/mol\n",
    "Asmr = 1.68 * 10**8\n",
    "Eawgs = 89.23 # kJ/mol\n",
    "Awgs = 9.90 * 10**3\n",
    "\n",
    "L = 0.3 #m\n",
    "\n",
    "Am = 0.03/10**-1\n",
    "Mc = 1\n",
    "PR = 1\n",
    "Psc = 1\n",
    "Ku = (Am * Mc * PR) / (Psc * L)\n",
    "\n",
    "I = 9; #Curent in Amp\n",
    "F = 96485; #faradays constant in C/mol\n",
    "\n",
    "#grid for length of reactor\n",
    "N = 100\n",
    "grid = CartesianGrid([[0, L]], N)\n",
    "\n",
    "#Boundry condition for ch4\n",
    "Cch40  = ych40 = 0.3\n",
    "bcs = [{\"value\": 0.3}, {\"value\": 0.6}, {\"value\": 0}, \n",
    "       {\"value\": 0}, {\"value\": 0}, {\"value\": 0.1}]\n",
    "ics = [ScalarField(grid, 0) for _ in range(6)]\n",
    "\n",
    "def rxneq(C):\n",
    "    R = np.zeros(3)\n",
    "    R[0] = Ku * Asmr * np.exp(-Easmr * 1000 / (gasconstant * T)) * (C[0] * C[1] - C[2] * C[3]**3 / Keq[0])\n",
    "    R[1] = Ku * Awgs * np.exp(-Eawgs * 1000/ (gasconstant * T))*(C[2] * C[1] - C[3] * C[4] / Keq[1])\n",
    "    R[2] = I / (2 * F)\n",
    "    return R\n",
    "\n",
    "def eqns(state, t): \n",
    "    C = np.array([state]) #concentrations array\n",
    "\n",
    "    X = 1 - (1 + 2 * ych40) / (1 + 2 * ych40 * C[1] / Cch40)\n",
    "    v = v0 * (1 + 2 * ych40 * X)\n",
    "    \n",
    "    laps = np.array([u.laplace(bc=bc) for u, bc in zip(C, bcs)])\n",
    "    dCdt = laps/v + np.dot(nu, rxneq(C))\n",
    "\n",
    "    return tuple(dCdt)\n",
    "\n",
    "pde = PDE(eqns)\n",
    "results = pde.solve(ics, t_range = 20, dt = 0.01, tracker=[\"progress\", \"plot\"])\n"
   ]
  }
 ],
 "metadata": {
  "kernelspec": {
   "display_name": "Python 3",
   "language": "python",
   "name": "python3"
  },
  "language_info": {
   "codemirror_mode": {
    "name": "ipython",
    "version": 3
   },
   "file_extension": ".py",
   "mimetype": "text/x-python",
   "name": "python",
   "nbconvert_exporter": "python",
   "pygments_lexer": "ipython3",
   "version": "3.11.9"
  }
 },
 "nbformat": 4,
 "nbformat_minor": 2
}
