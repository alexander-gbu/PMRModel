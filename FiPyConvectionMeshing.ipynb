{
 "cells": [
  {
   "cell_type": "code",
   "execution_count": 26,
   "metadata": {},
   "outputs": [],
   "source": [
    "from fipy import Grid2D, CellVariable, FaceVariable, Viewer\n",
    "from fipy import ConvectionTerm, DiffusionTerm, TransientTerm\n",
    "import numpy as np\n",
    "from scipy import interpolate\n",
    "from fipy import LinearGMRESSolver"
   ]
  },
  {
   "cell_type": "code",
   "execution_count": 27,
   "metadata": {},
   "outputs": [
    {
     "name": "stdout",
     "output_type": "stream",
     "text": [
      "(7, 7, 2)\n",
      "(7, 7)\n",
      "(7, 7)\n",
      "[0.5 1.5 2.5 1.5 2.5 3.5 2.5 3.5 4.5 3.5 4.5 5.5 0.5 1.5 2.5 3.5 1.5 2.5\n",
      " 3.5 4.5 2.5 3.5 4.5 5.5]\n",
      "[0.  0.  0.  0.5 1.5 2.5 1.  3.  5.  1.5 4.5 7.5 0.  0.5 1.  1.5 0.  1.5\n",
      " 3.  4.5 0.  2.5 5.  7.5]\n"
     ]
    },
    {
     "name": "stderr",
     "output_type": "stream",
     "text": [
      "C:\\Users\\Alexa\\AppData\\Local\\Packages\\PythonSoftwareFoundation.Python.3.12_qbz5n2kfra8p0\\LocalCache\\local-packages\\Python312\\site-packages\\fipy\\terms\\term.py:120: UserWarning: sweep() or solve() are likely to produce erroneous results when `var` does not contain floats.\n",
      "  self._checkVar(var)\n",
      "C:\\Users\\Alexa\\AppData\\Local\\Packages\\PythonSoftwareFoundation.Python.3.12_qbz5n2kfra8p0\\LocalCache\\local-packages\\Python312\\site-packages\\fipy\\terms\\abstractBinaryTerm.py:82: UserWarning: sweep() or solve() are likely to produce erroneous results when `var` does not contain floats.\n",
      "  self.term._checkVar(var)\n",
      "C:\\Users\\Alexa\\AppData\\Local\\Packages\\PythonSoftwareFoundation.Python.3.12_qbz5n2kfra8p0\\LocalCache\\local-packages\\Python312\\site-packages\\fipy\\terms\\term.py:192: UserWarning: sweep() or solve() are likely to produce erroneous results when `var` does not contain floats.\n",
      "  solver = self._prepareLinearSystem(var, solver, boundaryConditions, dt)\n"
     ]
    },
    {
     "data": {
      "image/png": "[encoded data removed]",
      "text/plain": [
       "<Figure size 600x480 with 2 Axes>"
      ]
     },
     "metadata": {},
     "output_type": "display_data"
    }
   ],
   "source": [
    "dx = 0.5\n",
    "nx = 7\n",
    "dy = 0.5\n",
    "ny = 7\n",
    "\n",
    "xy = np.zeros((nx, ny, 2))\n",
    "xy[:, :,  0] = np.mgrid[0:nx, 0:ny][0] * dx\n",
    "xy[:, :, 1] = np.mgrid[0:nx, 0:ny][1] * dy\n",
    "\n",
    "u = xy[..., 0] + xy[..., 1]\n",
    "v = xy[..., 0] * xy[..., 1]\n",
    "\n",
    "print(xy.shape)\n",
    "print(u.shape)\n",
    "print(v.shape)\n",
    "m = Grid2D(nx=3, ny=3, dx=1.0, dy=1.0)\n",
    "init=5\n",
    "\n",
    "xy_interp = np.array(m.faceCenters).swapaxes(0, 1)\n",
    "u_interp = interpolate.griddata(xy.reshape(-1, 2), u.flatten(), xy_interp, method='cubic')\n",
    "v_interp = interpolate.griddata(xy.reshape(-1, 2), v.flatten(), xy_interp, method='cubic')\n",
    "\n",
    "var = CellVariable(mesh=m,value=init)\n",
    "\n",
    "diffusion = 1.0\n",
    "velocity = FaceVariable(mesh=m, rank=1)\n",
    "\n",
    "print(u_interp)\n",
    "print(v_interp)\n",
    "velocity[0, :] = u_interp\n",
    "velocity[1, :] = v_interp\n",
    "\n",
    "\n",
    "eqn = TransientTerm() + ConvectionTerm(velocity) == DiffusionTerm(diffusion)\n",
    "\n",
    "\n",
    "eqn.solve(var, dt=1.0)\n",
    "\n",
    "viewer = Viewer(vars=var)"
   ]
  },
  {
   "cell_type": "code",
   "execution_count": 32,
   "metadata": {},
   "outputs": [
    {
     "name": "stdout",
     "output_type": "stream",
     "text": [
      "(7, 7, 2)\n",
      "(7, 7)\n",
      "(7, 7)\n",
      "[0.5 1.5 2.5 1.5 2.5 3.5 2.5 3.5 4.5 3.5 4.5 5.5 0.5 1.5 2.5 3.5 1.5 2.5\n",
      " 3.5 4.5 2.5 3.5 4.5 5.5]\n",
      "[0.  0.  0.  0.5 1.5 2.5 1.  3.  5.  1.5 4.5 7.5 0.  0.5 1.  1.5 0.  1.5\n",
      " 3.  4.5 0.  2.5 5.  7.5]\n"
     ]
    },
    {
     "data": {
      "image/png": "[encoded data removed]",
      "text/plain": [
       "<Figure size 600x480 with 2 Axes>"
      ]
     },
     "metadata": {},
     "output_type": "display_data"
    }
   ],
   "source": [
    "#2 DIMENSIONAL\n",
    "dx = 1.\n",
    "nx = 3\n",
    "dy = 1.\n",
    "ny = 3\n",
    "\n",
    "#the velocity field's 'grid' has to be >2x larger than the mesh for the variables\n",
    "#so dx_vel*nx_vel > dx*nx\n",
    "dx_vel = 0.5\n",
    "nx_vel = 7\n",
    "dy_vel = 0.5\n",
    "ny_vel = 7\n",
    "\n",
    "xy = np.zeros((nx_vel, ny_vel, 2))\n",
    "xy[:, :,  0] = np.mgrid[0:nx_vel, 0:ny_vel][0] * dx_vel\n",
    "xy[:, :, 1] = np.mgrid[0:nx_vel, 0:ny_vel][1] * dy_vel\n",
    "\n",
    "u = xy[..., 0] + xy[..., 1]\n",
    "v = xy[..., 0] * xy[..., 1]\n",
    "\n",
    "print(xy.shape)\n",
    "print(u.shape)\n",
    "print(v.shape)\n",
    "\n",
    "m = Grid2D(nx=nx, ny=ny, dx=dx, dy=dy)\n",
    "init=5\n",
    "\n",
    "xy_interp = np.array(m.faceCenters).swapaxes(0, 1)\n",
    "u_interp = interpolate.griddata(xy.reshape(-1, 2), u.flatten(), xy_interp, method='cubic')\n",
    "v_interp = interpolate.griddata(xy.reshape(-1, 2), v.flatten(), xy_interp, method='cubic')\n",
    "\n",
    "var = CellVariable(mesh=m,value=init)\n",
    "\n",
    "diffusion = 1.0\n",
    "velocity = FaceVariable(mesh=m, rank=1)\n",
    "\n",
    "print(u_interp)\n",
    "print(v_interp)\n",
    "velocity[0, :] = u_interp\n",
    "velocity[1, :] = v_interp\n",
    "\n",
    "\n",
    "eqn = TransientTerm() + ConvectionTerm(velocity) == DiffusionTerm(diffusion)\n",
    "\n",
    "eqn.solve(var, dt=1.0)\n",
    "\n",
    "viewer = Viewer(vars=var)"
   ]
  },
  {
   "cell_type": "code",
   "execution_count": null,
   "metadata": {},
   "outputs": [],
   "source": [
    "#1 DIMENSIONAL\n",
    "\n",
    "dx = 0.5\n",
    "nx = 7\n",
    "\n",
    "dx_vel = 1.0\n",
    "nx_vel = 3\n",
    "\n"
   ]
  }
 ],
 "metadata": {
  "kernelspec": {
   "display_name": "Python 3",
   "language": "python",
   "name": "python3"
  },
  "language_info": {
   "codemirror_mode": {
    "name": "ipython",
    "version": 3
   },
   "file_extension": ".py",
   "mimetype": "text/x-python",
   "name": "python",
   "nbconvert_exporter": "python",
   "pygments_lexer": "ipython3",
   "version": "3.12.9"
  }
 },
 "nbformat": 4,
 "nbformat_minor": 2
}
