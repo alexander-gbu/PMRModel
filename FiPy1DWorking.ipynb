{
 "cells": [
  {
   "cell_type": "code",
   "execution_count": 2,
   "metadata": {},
   "outputs": [],
   "source": [
    "#this code seems to be working!\n",
    "\n",
    "from fipy import Grid2D, Grid1D, CellVariable, FaceVariable, Viewer\n",
    "from fipy import ConvectionTerm, DiffusionTerm, TransientTerm"
   ]
  },
  {
   "cell_type": "code",
   "execution_count": 3,
   "metadata": {},
   "outputs": [
    {
     "name": "stdout",
     "output_type": "stream",
     "text": [
      "[0.5 1.5 2.5 1.5 2.5 3.5 2.5 3.5 4.5 3.5 4.5 5.5 0.5 1.5 2.5 3.5 1.5 2.5\n",
      " 3.5 4.5 2.5 3.5 4.5 5.5]\n",
      "[0.  0.  0.  0.5 1.5 2.5 1.  3.  5.  1.5 4.5 7.5 0.  0.5 1.  1.5 0.  1.5\n",
      " 3.  4.5 0.  2.5 5.  7.5]\n"
     ]
    },
    {
     "data": {
      "image/png": "[encoded data removed]",
      "text/plain": [
       "<Figure size 600x480 with 2 Axes>"
      ]
     },
     "metadata": {},
     "output_type": "display_data"
    }
   ],
   "source": [
    "# Define mesh (3×3 grid)\n",
    "m = Grid2D(nx=3, ny=3, dx=1.0, dy=1.0)\n",
    "\n",
    "# Initialize variable\n",
    "var = CellVariable(mesh=m, value=5.0)\n",
    "\n",
    "# Define velocity directly on FiPy mesh\n",
    "velocity = FaceVariable(mesh=m, rank=1)\n",
    "x, y = m.faceCenters\n",
    "velocity[0] = x + y  # u = x + y\n",
    "velocity[1] = x * y  # v = x * y\n",
    "\n",
    "print(velocity[0])\n",
    "print(velocity[1])\n",
    "\n",
    "# Define PDE\n",
    "eqn = TransientTerm() + ConvectionTerm(velocity) == DiffusionTerm(1.0) #so this now solves du/dt + (x+y)du/dx + (x*y)du/dy = del^2 u\n",
    "\n",
    "# Time-stepping\n",
    "for step in range(1):\n",
    "    eqn.solve(var, dt=1)\n",
    "\n",
    "# Visualize\n",
    "viewer = Viewer(var)"
   ]
  },
  {
   "cell_type": "code",
   "execution_count": 9,
   "metadata": {},
   "outputs": [
    {
     "name": "stdout",
     "output_type": "stream",
     "text": [
      "[0. 0. 0.]\n",
      "[[0. 0. 0.]]\n"
     ]
    },
    {
     "ename": "RuntimeError",
     "evalue": "Factor is exactly singular",
     "output_type": "error",
     "traceback": [
      "\u001b[1;31m---------------------------------------------------------------------------\u001b[0m",
      "\u001b[1;31mRuntimeError\u001b[0m                              Traceback (most recent call last)",
      "Cell \u001b[1;32mIn[9], line 25\u001b[0m\n\u001b[0;32m     22\u001b[0m valueLeft \u001b[38;5;241m=\u001b[39m \u001b[38;5;241m0.5\u001b[39m\n\u001b[0;32m     23\u001b[0m var\u001b[38;5;241m.\u001b[39mconstrain(valueLeft, m\u001b[38;5;241m.\u001b[39mfacesLeft)\n\u001b[1;32m---> 25\u001b[0m \u001b[43meqn\u001b[49m\u001b[38;5;241;43m.\u001b[39;49m\u001b[43msolve\u001b[49m\u001b[43m(\u001b[49m\u001b[43mvar\u001b[49m\u001b[43m)\u001b[49m\n\u001b[0;32m     27\u001b[0m \u001b[38;5;66;03m# Visualize\u001b[39;00m\n\u001b[0;32m     28\u001b[0m viewer \u001b[38;5;241m=\u001b[39m Viewer(var)\n",
      "File \u001b[1;32m~\\AppData\\Local\\Packages\\PythonSoftwareFoundation.Python.3.12_qbz5n2kfra8p0\\LocalCache\\local-packages\\Python312\\site-packages\\fipy\\terms\\term.py:194\u001b[0m, in \u001b[0;36mTerm.solve\u001b[1;34m(self, var, solver, boundaryConditions, dt)\u001b[0m\n\u001b[0;32m    191\u001b[0m \u001b[38;5;28;01mwith\u001b[39;00m Timer() \u001b[38;5;28;01mas\u001b[39;00m t:\n\u001b[0;32m    192\u001b[0m     solver \u001b[38;5;241m=\u001b[39m \u001b[38;5;28mself\u001b[39m\u001b[38;5;241m.\u001b[39m_prepareLinearSystem(var, solver, boundaryConditions, dt)\n\u001b[1;32m--> 194\u001b[0m     \u001b[43msolver\u001b[49m\u001b[38;5;241;43m.\u001b[39;49m\u001b[43m_solve\u001b[49m\u001b[43m(\u001b[49m\u001b[43m)\u001b[49m\n\u001b[0;32m    196\u001b[0m \u001b[38;5;28mself\u001b[39m\u001b[38;5;241m.\u001b[39m_log\u001b[38;5;241m.\u001b[39mdebug(\u001b[38;5;124m\"\u001b[39m\u001b[38;5;124mEND solve - \u001b[39m\u001b[38;5;132;01m{}\u001b[39;00m\u001b[38;5;124m ns\u001b[39m\u001b[38;5;124m\"\u001b[39m\u001b[38;5;241m.\u001b[39mformat(t\u001b[38;5;241m.\u001b[39melapsed))\n",
      "File \u001b[1;32m~\\AppData\\Local\\Packages\\PythonSoftwareFoundation.Python.3.12_qbz5n2kfra8p0\\LocalCache\\local-packages\\Python312\\site-packages\\fipy\\solvers\\scipy\\scipySolver.py:26\u001b[0m, in \u001b[0;36m_ScipySolver._solve\u001b[1;34m(self)\u001b[0m\n\u001b[0;32m     23\u001b[0m \u001b[38;5;28;01mif\u001b[39;00m \u001b[38;5;28mself\u001b[39m\u001b[38;5;241m.\u001b[39mvar\u001b[38;5;241m.\u001b[39mmesh\u001b[38;5;241m.\u001b[39mcommunicator\u001b[38;5;241m.\u001b[39mNproc \u001b[38;5;241m>\u001b[39m \u001b[38;5;241m1\u001b[39m:\n\u001b[0;32m     24\u001b[0m     \u001b[38;5;28;01mraise\u001b[39;00m \u001b[38;5;167;01mException\u001b[39;00m(\u001b[38;5;124m\"\u001b[39m\u001b[38;5;124mSciPy solvers cannot be used with multiple processors\u001b[39m\u001b[38;5;124m\"\u001b[39m)\n\u001b[1;32m---> 26\u001b[0m \u001b[38;5;28mself\u001b[39m\u001b[38;5;241m.\u001b[39mvar[:] \u001b[38;5;241m=\u001b[39m numerix\u001b[38;5;241m.\u001b[39mreshape(\u001b[38;5;28;43mself\u001b[39;49m\u001b[38;5;241;43m.\u001b[39;49m\u001b[43m_solve_\u001b[49m\u001b[43m(\u001b[49m\u001b[38;5;28;43mself\u001b[39;49m\u001b[38;5;241;43m.\u001b[39;49m\u001b[43mmatrix\u001b[49m\u001b[43m,\u001b[49m\u001b[43m \u001b[49m\u001b[38;5;28;43mself\u001b[39;49m\u001b[38;5;241;43m.\u001b[39;49m\u001b[43mvar\u001b[49m\u001b[38;5;241;43m.\u001b[39;49m\u001b[43mravel\u001b[49m\u001b[43m(\u001b[49m\u001b[43m)\u001b[49m\u001b[43m,\u001b[49m\u001b[43m \u001b[49m\u001b[43mnumerix\u001b[49m\u001b[38;5;241;43m.\u001b[39;49m\u001b[43marray\u001b[49m\u001b[43m(\u001b[49m\u001b[38;5;28;43mself\u001b[39;49m\u001b[38;5;241;43m.\u001b[39;49m\u001b[43mRHSvector\u001b[49m\u001b[43m)\u001b[49m\u001b[43m)\u001b[49m, \u001b[38;5;28mself\u001b[39m\u001b[38;5;241m.\u001b[39mvar\u001b[38;5;241m.\u001b[39mshape)\n",
      "File \u001b[1;32m~\\AppData\\Local\\Packages\\PythonSoftwareFoundation.Python.3.12_qbz5n2kfra8p0\\LocalCache\\local-packages\\Python312\\site-packages\\fipy\\solvers\\scipy\\linearLUSolver.py:38\u001b[0m, in \u001b[0;36mLinearLUSolver._solve_\u001b[1;34m(self, L, x, b)\u001b[0m\n\u001b[0;32m     35\u001b[0m \u001b[38;5;28mself\u001b[39m\u001b[38;5;241m.\u001b[39m_log\u001b[38;5;241m.\u001b[39mdebug(\u001b[38;5;124m\"\u001b[39m\u001b[38;5;124mBEGIN solve\u001b[39m\u001b[38;5;124m\"\u001b[39m)\n\u001b[0;32m     37\u001b[0m \u001b[38;5;28;01mwith\u001b[39;00m Timer() \u001b[38;5;28;01mas\u001b[39;00m t:\n\u001b[1;32m---> 38\u001b[0m     LU \u001b[38;5;241m=\u001b[39m \u001b[43msplu\u001b[49m\u001b[43m(\u001b[49m\u001b[43mL\u001b[49m\u001b[38;5;241;43m.\u001b[39;49m\u001b[43mmatrix\u001b[49m\u001b[38;5;241;43m.\u001b[39;49m\u001b[43masformat\u001b[49m\u001b[43m(\u001b[49m\u001b[38;5;124;43m\"\u001b[39;49m\u001b[38;5;124;43mcsc\u001b[39;49m\u001b[38;5;124;43m\"\u001b[39;49m\u001b[43m)\u001b[49m\u001b[43m,\u001b[49m\u001b[43m \u001b[49m\u001b[43mdiag_pivot_thresh\u001b[49m\u001b[38;5;241;43m=\u001b[39;49m\u001b[38;5;241;43m1.\u001b[39;49m\u001b[43m,\u001b[49m\n\u001b[0;32m     39\u001b[0m \u001b[43m                                        \u001b[49m\u001b[43mrelax\u001b[49m\u001b[38;5;241;43m=\u001b[39;49m\u001b[38;5;241;43m1\u001b[39;49m\u001b[43m,\u001b[49m\n\u001b[0;32m     40\u001b[0m \u001b[43m                                        \u001b[49m\u001b[43mpanel_size\u001b[49m\u001b[38;5;241;43m=\u001b[39;49m\u001b[38;5;241;43m10\u001b[39;49m\u001b[43m,\u001b[49m\n\u001b[0;32m     41\u001b[0m \u001b[43m                                        \u001b[49m\u001b[43mpermc_spec\u001b[49m\u001b[38;5;241;43m=\u001b[39;49m\u001b[38;5;241;43m3\u001b[39;49m\u001b[43m)\u001b[49m\n\u001b[0;32m     43\u001b[0m     error0 \u001b[38;5;241m=\u001b[39m numerix\u001b[38;5;241m.\u001b[39msqrt(numerix\u001b[38;5;241m.\u001b[39msum((L \u001b[38;5;241m*\u001b[39m x \u001b[38;5;241m-\u001b[39m b)\u001b[38;5;241m*\u001b[39m\u001b[38;5;241m*\u001b[39m\u001b[38;5;241m2\u001b[39m))\n\u001b[0;32m     45\u001b[0m     \u001b[38;5;28;01mfor\u001b[39;00m iteration \u001b[38;5;129;01min\u001b[39;00m \u001b[38;5;28mrange\u001b[39m(\u001b[38;5;28mmin\u001b[39m(\u001b[38;5;28mself\u001b[39m\u001b[38;5;241m.\u001b[39miterations, \u001b[38;5;241m10\u001b[39m)):\n",
      "File \u001b[1;32m~\\AppData\\Local\\Packages\\PythonSoftwareFoundation.Python.3.12_qbz5n2kfra8p0\\LocalCache\\local-packages\\Python312\\site-packages\\scipy\\sparse\\linalg\\_dsolve\\linsolve.py:428\u001b[0m, in \u001b[0;36msplu\u001b[1;34m(A, permc_spec, diag_pivot_thresh, relax, panel_size, options)\u001b[0m\n\u001b[0;32m    425\u001b[0m \u001b[38;5;28;01mif\u001b[39;00m (_options[\u001b[38;5;124m\"\u001b[39m\u001b[38;5;124mColPerm\u001b[39m\u001b[38;5;124m\"\u001b[39m] \u001b[38;5;241m==\u001b[39m \u001b[38;5;124m\"\u001b[39m\u001b[38;5;124mNATURAL\u001b[39m\u001b[38;5;124m\"\u001b[39m):\n\u001b[0;32m    426\u001b[0m     _options[\u001b[38;5;124m\"\u001b[39m\u001b[38;5;124mSymmetricMode\u001b[39m\u001b[38;5;124m\"\u001b[39m] \u001b[38;5;241m=\u001b[39m \u001b[38;5;28;01mTrue\u001b[39;00m\n\u001b[1;32m--> 428\u001b[0m \u001b[38;5;28;01mreturn\u001b[39;00m \u001b[43m_superlu\u001b[49m\u001b[38;5;241;43m.\u001b[39;49m\u001b[43mgstrf\u001b[49m\u001b[43m(\u001b[49m\u001b[43mN\u001b[49m\u001b[43m,\u001b[49m\u001b[43m \u001b[49m\u001b[43mA\u001b[49m\u001b[38;5;241;43m.\u001b[39;49m\u001b[43mnnz\u001b[49m\u001b[43m,\u001b[49m\u001b[43m \u001b[49m\u001b[43mA\u001b[49m\u001b[38;5;241;43m.\u001b[39;49m\u001b[43mdata\u001b[49m\u001b[43m,\u001b[49m\u001b[43m \u001b[49m\u001b[43mindices\u001b[49m\u001b[43m,\u001b[49m\u001b[43m \u001b[49m\u001b[43mindptr\u001b[49m\u001b[43m,\u001b[49m\n\u001b[0;32m    429\u001b[0m \u001b[43m                      \u001b[49m\u001b[43mcsc_construct_func\u001b[49m\u001b[38;5;241;43m=\u001b[39;49m\u001b[43mcsc_construct_func\u001b[49m\u001b[43m,\u001b[49m\n\u001b[0;32m    430\u001b[0m \u001b[43m                      \u001b[49m\u001b[43milu\u001b[49m\u001b[38;5;241;43m=\u001b[39;49m\u001b[38;5;28;43;01mFalse\u001b[39;49;00m\u001b[43m,\u001b[49m\u001b[43m \u001b[49m\u001b[43moptions\u001b[49m\u001b[38;5;241;43m=\u001b[39;49m\u001b[43m_options\u001b[49m\u001b[43m)\u001b[49m\n",
      "\u001b[1;31mRuntimeError\u001b[0m: Factor is exactly singular"
     ]
    }
   ],
   "source": [
    "#transforming it into 1D space\n",
    "\n",
    "m = Grid1D(nx=3, dx=1.0)\n",
    "\n",
    "# Initialize variable\n",
    "var = CellVariable(mesh=m, value=0.0)\n",
    "\n",
    "print(var)\n",
    "\n",
    "# Define velocity directly on FiPy mesh\n",
    "velocity = CellVariable(mesh=m, rank=1)\n",
    "\n",
    "print(velocity)\n",
    "\n",
    "#var_face = var.faceCenters\n",
    "\n",
    "velocity[0] = 0.5*(1+var)  # u = 1+var\n",
    "\n",
    "# Define PDE\n",
    "eqn = ConvectionTerm(coeff=velocity) == 0.0001\n",
    "\n",
    "valueLeft = 0.5\n",
    "var.constrain(valueLeft, m.facesLeft)\n",
    "\n",
    "eqn.solve(var)\n",
    "\n",
    "# Visualize\n",
    "viewer = Viewer(var)"
   ]
  },
  {
   "cell_type": "code",
   "execution_count": 8,
   "metadata": {},
   "outputs": [
    {
     "name": "stdout",
     "output_type": "stream",
     "text": [
      "[0. 0. 0. 0. 0. 0. 0. 0. 0. 0. 0. 0. 0. 0. 0. 0. 0. 0. 0. 0.]\n",
      "[[0. 0. 0. 0. 0. 0. 0. 0. 0. 0. 0. 0. 0. 0. 0. 0. 0. 0. 0. 0.]]\n"
     ]
    },
    {
     "name": "stderr",
     "output_type": "stream",
     "text": [
      "C:\\Users\\Alexa\\AppData\\Local\\Packages\\PythonSoftwareFoundation.Python.3.12_qbz5n2kfra8p0\\LocalCache\\local-packages\\Python312\\site-packages\\fipy\\viewers\\matplotlibViewer\\__init__.py:111: UserWarning: Matplotlib1DViewer efficiency is improved by setting the 'datamax' and 'datamin' keys\n",
      "  return Matplotlib1DViewer(vars=vars, title=title, axes=axes, **kwlimits)\n"
     ]
    },
    {
     "data": {
      "image/png": "[encoded data removed]",
      "text/plain": [
       "<Figure size 480x480 with 1 Axes>"
      ]
     },
     "metadata": {},
     "output_type": "display_data"
    }
   ],
   "source": [
    "#transforming it into 1D space\n",
    "\n",
    "m = Grid1D(nx=20, dx=0.01)\n",
    "\n",
    "# Initialize variable\n",
    "var = CellVariable(mesh=m, value=0.0)\n",
    "\n",
    "print(var)\n",
    "\n",
    "# Define velocity directly on FiPy mesh\n",
    "velocity = CellVariable(mesh=m, rank=1)\n",
    "\n",
    "print(velocity)\n",
    "\n",
    "#boundry conditions\n",
    "valueLeft = 0.5\n",
    "var.constrain(valueLeft, m.facesLeft)\n",
    "\n",
    "for step in range(500):\n",
    "    # print(var)\n",
    "    velocity[0] = (1+var)  # u = 0.5+var\n",
    "    # print(velocity)\n",
    "    eqn = TransientTerm() + ConvectionTerm(coeff=velocity) == 0.0001\n",
    "    eqn.solve(var, dt=0.1)\n",
    "\n",
    "viewer = Viewer(vars=var, datamin=0.)"
   ]
  }
 ],
 "metadata": {
  "kernelspec": {
   "display_name": "Python 3",
   "language": "python",
   "name": "python3"
  },
  "language_info": {
   "codemirror_mode": {
    "name": "ipython",
    "version": 3
   },
   "file_extension": ".py",
   "mimetype": "text/x-python",
   "name": "python",
   "nbconvert_exporter": "python",
   "pygments_lexer": "ipython3",
   "version": "3.12.9"
  }
 },
 "nbformat": 4,
 "nbformat_minor": 2
}
