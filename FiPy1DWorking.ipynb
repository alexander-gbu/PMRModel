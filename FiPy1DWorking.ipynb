{
 "cells": [
  {
   "cell_type": "code",
   "execution_count": 3,
   "metadata": {},
   "outputs": [],
   "source": [
    "#this code seems to be working!\n",
    "\n",
    "from fipy import Grid2D, Grid1D, CellVariable, FaceVariable, Viewer\n",
    "from fipy import ConvectionTerm, DiffusionTerm, TransientTerm"
   ]
  },
  {
   "cell_type": "code",
   "execution_count": 1,
   "metadata": {},
   "outputs": [
    {
     "ename": "NameError",
     "evalue": "name 'Grid2D' is not defined",
     "output_type": "error",
     "traceback": [
      "\u001b[1;31m---------------------------------------------------------------------------\u001b[0m",
      "\u001b[1;31mNameError\u001b[0m                                 Traceback (most recent call last)",
      "Cell \u001b[1;32mIn[1], line 2\u001b[0m\n\u001b[0;32m      1\u001b[0m \u001b[38;5;66;03m# Define mesh (3×3 grid)\u001b[39;00m\n\u001b[1;32m----> 2\u001b[0m m \u001b[38;5;241m=\u001b[39m \u001b[43mGrid2D\u001b[49m(nx\u001b[38;5;241m=\u001b[39m\u001b[38;5;241m3\u001b[39m, ny\u001b[38;5;241m=\u001b[39m\u001b[38;5;241m3\u001b[39m, dx\u001b[38;5;241m=\u001b[39m\u001b[38;5;241m1.0\u001b[39m, dy\u001b[38;5;241m=\u001b[39m\u001b[38;5;241m1.0\u001b[39m)\n\u001b[0;32m      4\u001b[0m \u001b[38;5;66;03m# Initialize variable\u001b[39;00m\n\u001b[0;32m      5\u001b[0m var \u001b[38;5;241m=\u001b[39m CellVariable(mesh\u001b[38;5;241m=\u001b[39mm, value\u001b[38;5;241m=\u001b[39m\u001b[38;5;241m5.0\u001b[39m)\n",
      "\u001b[1;31mNameError\u001b[0m: name 'Grid2D' is not defined"
     ]
    }
   ],
   "source": [
    "# Define mesh (3×3 grid)\n",
    "m = Grid2D(nx=3, ny=3, dx=1.0, dy=1.0)\n",
    "\n",
    "# Initialize variable\n",
    "var = CellVariable(mesh=m, value=5.0)\n",
    "\n",
    "# Define velocity directly on FiPy mesh\n",
    "velocity = FaceVariable(mesh=m, rank=1)\n",
    "x, y = m.faceCenters\n",
    "velocity[0] = x + y  # u = x + y\n",
    "velocity[1] = x * y  # v = x * y\n",
    "\n",
    "print(velocity[0])\n",
    "print(velocity[1])\n",
    "\n",
    "# Define PDE\n",
    "eqn = TransientTerm() + ConvectionTerm(velocity) == DiffusionTerm(1.0) #so this now solves du/dt + (x+y)du/dx + (x*y)du/dy = del^2 u\n",
    "\n",
    "# Time-stepping\n",
    "for step in range(1):\n",
    "    eqn.solve(var, dt=1)\n",
    "\n",
    "# Visualize\n",
    "viewer = Viewer(var)"
   ]
  },
  {
   "cell_type": "code",
   "execution_count": 75,
   "metadata": {},
   "outputs": [
    {
     "name": "stdout",
     "output_type": "stream",
     "text": [
      "[0. 0. 0.]\n",
      "[[0. 0. 0.]]\n"
     ]
    },
    {
     "name": "stderr",
     "output_type": "stream",
     "text": [
      "C:\\Users\\Alexa\\AppData\\Local\\Packages\\PythonSoftwareFoundation.Python.3.12_qbz5n2kfra8p0\\LocalCache\\local-packages\\Python312\\site-packages\\fipy\\viewers\\matplotlibViewer\\__init__.py:111: UserWarning: Matplotlib1DViewer efficiency is improved by setting the 'datamax' and 'datamin' keys\n",
      "  return Matplotlib1DViewer(vars=vars, title=title, axes=axes, **kwlimits)\n"
     ]
    },
    {
     "data": {
      "image/png": "[encoded data removed]",
      "text/plain": [
       "<Figure size 480x480 with 1 Axes>"
      ]
     },
     "metadata": {},
     "output_type": "display_data"
    }
   ],
   "source": [
    "#transforming it into 1D space\n",
    "\n",
    "m = Grid1D(nx=3, dx=1.0)\n",
    "\n",
    "# Initialize variable\n",
    "var = CellVariable(mesh=m, value=0.0)\n",
    "\n",
    "print(var)\n",
    "\n",
    "# Define velocity directly on FiPy mesh\n",
    "velocity = CellVariable(mesh=m, rank=1)\n",
    "\n",
    "print(velocity)\n",
    "\n",
    "#var_face = var.faceCenters\n",
    "\n",
    "velocity[0] = 0.5*(1+var)  # u = 1+var\n",
    "\n",
    "# Define PDE\n",
    "eqn = ConvectionTerm(coeff=velocity) == DiffusionTerm(coeff=1)\n",
    "\n",
    "valueLeft = 0.5\n",
    "var.constrain(valueLeft, m.facesLeft)\n",
    "\n",
    "eqn.solve(var)\n",
    "\n",
    "# Visualize\n",
    "viewer = Viewer(var)"
   ]
  },
  {
   "cell_type": "code",
   "execution_count": 77,
   "metadata": {},
   "outputs": [
    {
     "name": "stdout",
     "output_type": "stream",
     "text": [
      "[0. 0. 0. 0. 0. 0. 0. 0. 0. 0. 0. 0. 0. 0. 0. 0. 0. 0. 0. 0.]\n",
      "[[0. 0. 0. 0. 0. 0. 0. 0. 0. 0. 0. 0. 0. 0. 0. 0. 0. 0. 0. 0.]]\n"
     ]
    },
    {
     "data": {
      "image/png": "[encoded data removed]",
      "text/plain": [
       "<Figure size 480x480 with 1 Axes>"
      ]
     },
     "metadata": {},
     "output_type": "display_data"
    }
   ],
   "source": [
    "#transforming it into 1D space\n",
    "\n",
    "m = Grid1D(nx=20, dx=0.01)\n",
    "\n",
    "# Initialize variable\n",
    "var = CellVariable(mesh=m, value=0.0)\n",
    "\n",
    "print(var)\n",
    "\n",
    "# Define velocity directly on FiPy mesh\n",
    "velocity = CellVariable(mesh=m, rank=1)\n",
    "\n",
    "print(velocity)\n",
    "\n",
    "#boundry conditions\n",
    "valueLeft = 0.5\n",
    "var.constrain(valueLeft, m.facesLeft)\n",
    "\n",
    "for step in range(500):\n",
    "    # print(var)\n",
    "    velocity[0] = (1+var)  # u = 0.5+var\n",
    "    # print(velocity)\n",
    "    eqn = TransientTerm() + ConvectionTerm(coeff=velocity) == 0\n",
    "    eqn.solve(var, dt=0.1)\n",
    "\n",
    "viewer = Viewer(vars=var, datamin=0., datamax=1.3)"
   ]
  }
 ],
 "metadata": {
  "kernelspec": {
   "display_name": "Python 3",
   "language": "python",
   "name": "python3"
  },
  "language_info": {
   "codemirror_mode": {
    "name": "ipython",
    "version": 3
   },
   "file_extension": ".py",
   "mimetype": "text/x-python",
   "name": "python",
   "nbconvert_exporter": "python",
   "pygments_lexer": "ipython3",
   "version": "3.12.9"
  }
 },
 "nbformat": 4,
 "nbformat_minor": 2
}
