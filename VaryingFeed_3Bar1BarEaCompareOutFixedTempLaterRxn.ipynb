{
 "cells": [
  {
   "cell_type": "code",
   "execution_count": 1,
   "id": "5cc961c9",
   "metadata": {},
   "outputs": [],
   "source": [
    "from scipy.integrate import solve_bvp\n",
    "import numpy as np\n",
    "import matplotlib.pyplot as plt\n",
    "import warnings\n",
    "\n",
    "def heats(T):\n",
    "    #heats of reaction and heat capacity calculation from NIST\n",
    "    t = T/1000\n",
    "\n",
    "    #CH4\n",
    "    A =\t-0.703029\n",
    "    B =\t108.4773\n",
    "    C =\t-42.52157\n",
    "    D =\t5.862788\n",
    "    E =\t0.678565\n",
    "    F =\t-76.84376\n",
    "    G =\t158.7163\n",
    "    H =\t-74.87310\n",
    "\n",
    "    dH_CH4 = A*t + B*t**2/2 + C*t**3/3 + D*t**4/4 - E/t + F - H\n",
    "    Cp_CH4 = A + B*t + C*t**2 + D*t**3 + E/(t**2)\n",
    "\n",
    "    #H2O\n",
    "    A =   30.09200\n",
    "    B =   6.832514\n",
    "    C =   6.793435\n",
    "    D =  -2.534480\n",
    "    E =   0.082139\n",
    "    F =  -250.8810\n",
    "    G =   223.3967\n",
    "    H =  -241.8264\n",
    "\n",
    "    dH_H2O = A*t + B*t**2/2 + C*t**3/3 + D*t**4/4 - E/t + F - H\n",
    "    Cp_H2O = A + B*t + C*t**2 + D*t**3 + E/(t**2)\n",
    "\n",
    "    #CO\n",
    "    A =   25.56759\n",
    "    B =   6.096130\n",
    "    C =   4.054656\n",
    "    D =  -2.671301\n",
    "    E =   0.131021\n",
    "    F =  -118.0089\n",
    "    G =   227.3665\n",
    "    H = -110.5271\n",
    "\n",
    "    dH_CO = A*t + B*t**2/2 + C*t**3/3 + D*t**4/4 - E/t + F - H\n",
    "    Cp_CO = A + B*t + C*t**2 + D*t**3 + E/(t**2)\n",
    "\n",
    "    #CO2\n",
    "    A =   24.99735\n",
    "    B =   55.18696\n",
    "    C =  -33.69137\n",
    "    D =   7.948387\n",
    "    E =  -0.136638\n",
    "    F =  -403.6075\n",
    "    G =   228.2431\n",
    "    H =  -393.5224\n",
    "\n",
    "    dH_CO2 = A*t + B*t**2/2 + C*t**3/3 + D*t**4/4 - E/t + F - H\n",
    "    Cp_CO2 = A + B*t + C*t**2 + D*t**3 + E/(t**2)\n",
    "\n",
    "    #H2\n",
    "    A =  33.066178\n",
    "    B = -11.363417\n",
    "    C =  11.432816\n",
    "    D = -2.772874\n",
    "    E = -0.158558\n",
    "    F = -9.980797\n",
    "    G =  172.707974\n",
    "    H =  0.0\n",
    "\n",
    "    dH_H2 = A*t + B*t**2/2 + C*t**3/3 + D*t**4/4 - E/t + F - H\n",
    "    Cp_H2 = A + B*t + C*t**2 + D*t**3 + E/(t**2)\n",
    "\n",
    "    #Ar\n",
    "    A =\t20.78600\n",
    "    B =\t2.825911*10**-7\n",
    "    C =\t-1.464191*10**-7\n",
    "    D =\t1.092131*10**-8\n",
    "    E =\t-3.661371*10**-8\n",
    "    F =\t-6.197350\n",
    "    G =\t179.9990\n",
    "    H =\t0\n",
    "\n",
    "    dH_Ar = A*t + B*t**2/2 + C*t**3/3 + D*t**4/4 - E/t + F - H\n",
    "    Cp_Ar = A + B*t + C*t**2 + D*t**3 + E/(t**2) #J/mol K\n",
    "\n",
    "    dHsmr = (3*dH_H2 + dH_CO - dH_CH4 - dH_H2O + 206.1)*10**3 #J/mol\n",
    "    dHwgs = (dH_H2 + dH_CO2 - dH_CO - dH_H2O - 41.15)*10**3 #J/mol\n",
    "    # print(dHsmr)\n",
    "    # print(dHwgs)\n",
    "    # print([Cp_CH4, Cp_H2O, Cp_CO, Cp_CO2, Cp_H2])\n",
    "    return dHsmr, dHwgs, [Cp_CH4, Cp_H2O, Cp_CO, Cp_CO2, Cp_H2, Cp_Ar], [dH_CH4, dH_H2O, dH_CO, dH_CO2, dH_H2, dH_Ar]"
   ]
  },
  {
   "cell_type": "code",
   "execution_count": 2,
   "id": "04441d64",
   "metadata": {},
   "outputs": [
    {
     "name": "stdout",
     "output_type": "stream",
     "text": [
      "0.0008870138178571427\n",
      "5.3340773809523796e-05\n"
     ]
    }
   ],
   "source": [
    "#reactor constants\n",
    "L = 0.0609 #m\n",
    "R_inner = 0.00225 #m outside diameter of inner tube\n",
    "R_outer = 0.0035 #m inside diameter of outer tube\n",
    "Rin_outer = 0.003154/2 #m inner radius of inner tube\n",
    "\n",
    "A = np.pi * ((R_outer)**2-(R_inner)**2) #m^2 AXIAL AREA (GAS FLOW)\n",
    "V = A*L #m^3\n",
    "Peri = 2*np.pi*R_outer\n",
    "S = Peri*L #m^2 RADIAL AREA (HEAT FLUX AND REACTION)\n",
    "\n",
    "Ain = np.pi * (Rin_outer)**2\n",
    "Vin = Ain*L\n",
    "Perimin = 2*np.pi*R_inner\n",
    "Sinner = Perimin*L\n",
    "\n",
    "#gas flow constants WHEN CHANGING THE TEMPERATURE YOU NEED TO ADJUST THE INITIAL GUESS -- USING ODEINT MIGHT BE FOR BETTER CONVERSION\n",
    "Tinfeed = 450 #K\n",
    "P = 3.15 #bar or atm\n",
    "Rgas = 8.3144598 * 10**-5\n",
    "\n",
    "sccm0 = np.array([16.16, 43.04, 0, 0, 9, 3.49])\n",
    "mols0 = sccm0/22400 /60\n",
    "#rate equation constants\n",
    "Rreact = 8.314 #J / mol·K\n",
    "#these are the constants we calculated!!!\n",
    "Easmr = 69861/1000 #kJ/mol 165.740\n",
    "Asmr = 16006\n",
    "nsmr = 1.101\n",
    "#these constants are taken from paper https://doi.org/10.1016/j.cattod.2006.07.022\n",
    "Eawgs = 67.13 #kJ/mol\n",
    "Awgs = 1.466*10**3\n",
    "\n",
    "#OLD REACTION CONSTANTS\n",
    "# Easmr = 165.740 #kJ/mol 165.740\n",
    "# Asmr = 1.68*10**8\n",
    "# Eawgs = 89.23 #kJ/mol\n",
    "# Awgs = 9.90*10**3\n",
    "\n",
    "Ku = 0.15 #0.5\n",
    "I = 9 #curent in Amps\n",
    "Fa = 96485 #faradays constant\n",
    "h2Rem = 0\n",
    "\n",
    "Uouter = 100 #120\n",
    "Uinner = 104\n",
    "\n",
    "#q_furn = 3400 #W/m2 K\n",
    "\n",
    "MM = np.array([16.04, 18.01528, 28.01, 44.009, 2.016, 39.948])\n",
    "m0 = np.dot(MM, mols0)\n",
    "print(m0) #kg/s\n",
    "print(np.sum(mols0))\n",
    "\n",
    "x_num = 1000\n",
    "dx = L/(x_num-1)\n",
    "x_pts = np.linspace(0,L,x_num)"
   ]
  },
  {
   "cell_type": "code",
   "execution_count": 3,
   "id": "3479dcb4",
   "metadata": {},
   "outputs": [],
   "source": [
    "Tinmem = 1060 #K\n",
    "\n",
    "Tfeed = np.concatenate((np.linspace(900,1000,int(x_num/20)), np.linspace(1000,1065,int(x_num*4/20)), \n",
    "                        np.full(int(x_num*11/20), 1065), np.linspace(1065,1035,int(x_num*2/20)), \n",
    "                        np.linspace(1035,1065,int(x_num*2/20))))[::-1]"
   ]
  },
  {
   "cell_type": "code",
   "execution_count": 4,
   "id": "452dd266",
   "metadata": {},
   "outputs": [
    {
     "name": "stdout",
     "output_type": "stream",
     "text": [
      "1044.245989020697\n"
     ]
    }
   ],
   "source": [
    "boundarymem = np.concatenate((mols0, [Tinmem]))\n",
    "#SHOULD UPDATE THE INITIAL GUESSES TO BE THE OUTCOMES OF THE LAST ONES I JUST NOW REALIZED\n",
    "init_guess = np.zeros((7, x_num))\n",
    "init_guess[0, :] = boundarymem[0]\n",
    "init_guess[1, :] = boundarymem[1]\n",
    "init_guess[2, :] = boundarymem[2]\n",
    "init_guess[3, :] = boundarymem[3]\n",
    "init_guess[4, :] = boundarymem[4]  \n",
    "init_guess[5, :] = boundarymem[5]\n",
    "\n",
    "index = 0\n",
    "Tfurn = 1080\n",
    "\n",
    "for i in range(10):\n",
    "    boundarymem = np.concatenate((mols0, [Tinmem]))\n",
    "    # print(boundarymem)\n",
    "    init_guess[6, :] = boundarymem[6]\n",
    "\n",
    "    def odes(x, F):\n",
    "        F[:6, :][F[:6, :] < 0] = 0\n",
    "        y = F[:6]/np.sum(F[:6], axis = 0)\n",
    "        T = F[6]\n",
    "        Ctot = P/(Rgas * T)\n",
    "\n",
    "        global vfinalmem\n",
    "        v = np.sum(F[:6], axis = 0)/Ctot / A #m/sec\n",
    "        vfinalmem = v\n",
    "        Keqsmr = (101325/100000)**2 * np.exp(-26830/T + 30.114)\n",
    "        Keqwgs = np.exp(4400/T - 4.036)\n",
    "\n",
    "        rsmr = 2*np.pi*R_outer/A*Ku*Asmr*np.exp(-Easmr*1000/Rreact/T)*((y[0]**nsmr)*(y[1]**nsmr)-(P**(2*nsmr))*(y[2]**nsmr)*(y[4]**(3*nsmr))/(Keqsmr**nsmr))\n",
    "        rwgs = 2*np.pi*R_outer/A*Ku*Awgs*np.exp(-Eawgs*1000/Rreact/T)*(y[1]*y[2]-y[3]*y[4]/Keqwgs)\n",
    "        #rh2r = I/(2*Fa*L)\n",
    "        rsmr[:int(x_num*0.02)] = 0\n",
    "        rwgs[:int(x_num*0.02)] = 0\n",
    "\n",
    "        dHsmr, dHwgs, Cps, _ = heats(T)\n",
    "        Cpg = np.sum(y[:6, :]*Cps, axis=0)\n",
    "\n",
    "        Fch4 = (-rsmr)*A\n",
    "        Fh2o = (-rsmr - rwgs)*A\n",
    "        Fco = (rsmr - rwgs)*A\n",
    "        Fco2 = (rwgs)*A\n",
    "        Fh2 = (3*rsmr + rwgs)*A # - h2Rem*rh2r\n",
    "        Far = np.zeros(len(y[0]))\n",
    "        Temp = (- A*(dHsmr*rsmr + dHwgs*rwgs) + Peri*Uouter*(-T[:] + Tfurn) +\n",
    "                Perimin*Uinner*(-T + Tfeed[:len(T)]))/(np.sum(F[:6], axis = 0)*Cpg)\n",
    "\n",
    "        return np.vstack([Fch4, Fh2o, Fco, Fco2, Fh2, Far, Temp])\n",
    "\n",
    "    def bcs(yleft, yright):\n",
    "        return np.array(yleft-boundarymem)\n",
    "\n",
    "    solnmem = solve_bvp(odes, bcs, x_pts, init_guess, max_nodes=x_num, tol = 0.01)\n",
    "\n",
    "    Tmem = solnmem.y[6][::-1]\n",
    "\n",
    "    boundaryfeed = np.concatenate((mols0, [Tinfeed]))\n",
    "    # print(boundaryfeed)\n",
    "    init_guess[6, :] = boundaryfeed[6]\n",
    "\n",
    "    #CAN CHANGE THIS SO THAT IT ONLY DOES TEMPERATURE\n",
    "    def odes(x, F):\n",
    "        F[:6, :][F[:6, :] < 0] = 0\n",
    "        y = F[:6]/np.sum(F[:6], axis = 0)\n",
    "        T = F[6]\n",
    "        Ctot = P/(Rgas * T)\n",
    "\n",
    "        global vfinalfeed\n",
    "        v = np.sum(F[:6], axis = 0)/Ctot / Ain #m/sec\n",
    "        vfinalfeed = v\n",
    "\n",
    "        _, _, Cps, _ = heats(T)\n",
    "        Cpg = np.sum(y[:6, :]*Cps, axis=0)\n",
    "\n",
    "        Fch4 = np.zeros(len(y[0]))\n",
    "        Fh2o = np.zeros(len(y[0]))\n",
    "        Fco = np.zeros(len(y[0]))\n",
    "        Fco2 = np.zeros(len(y[0]))\n",
    "        Fh2 = np.zeros(len(y[0]))\n",
    "        Far = np.zeros(len(y[0]))\n",
    "        Temp = Perimin*Uinner*(Tmem[:len(y[0])] - T)/(np.sum(F[:6,], axis = 0)*Cpg)\n",
    "\n",
    "        return np.vstack([Fch4, Fh2o, Fco, Fco2, Fh2, Far, Temp])\n",
    "\n",
    "    def bcs(yleft, yright):\n",
    "        return np.array(yleft-boundaryfeed)\n",
    "\n",
    "    solnfeed = solve_bvp(odes, bcs, x_pts, init_guess, max_nodes=x_num, tol = 0.0001)\n",
    "\n",
    "    Tinmem = solnfeed.y[6,-1]\n",
    "    Tfeed = solnfeed.y[6][::-1] \n",
    "\n",
    "sccmf = solnmem.y[:6,-1]*22400*60\n",
    "modelTemp = solnfeed.y[6,int(x_num*5/6)]\n",
    "\n",
    "print(modelTemp)"
   ]
  },
  {
   "cell_type": "code",
   "execution_count": 5,
   "id": "91cce8a6",
   "metadata": {},
   "outputs": [
    {
     "data": {
      "text/plain": [
       "Text(0.5, 1.0, 'Temperature profile on membrane side')"
      ]
     },
     "execution_count": 5,
     "metadata": {},
     "output_type": "execute_result"
    },
    {
     "data": {
      "image/png": "[encoded data removed]",
      "text/plain": [
       "<Figure size 640x480 with 1 Axes>"
      ]
     },
     "metadata": {},
     "output_type": "display_data"
    }
   ],
   "source": [
    "#membrane side temp\n",
    "plt.plot(solnmem.x, solnmem.y[6][::-1])\n",
    "plt.xlabel('z (m)')\n",
    "plt.ylim(1000,1100)\n",
    "plt.ylabel('T (K)')\n",
    "plt.title('Temperature profile on membrane side')"
   ]
  },
  {
   "cell_type": "code",
   "execution_count": 6,
   "id": "fab245df",
   "metadata": {},
   "outputs": [
    {
     "data": {
      "text/plain": [
       "Text(0.5, 1.0, 'Temperature profile on feed side')"
      ]
     },
     "execution_count": 6,
     "metadata": {},
     "output_type": "execute_result"
    },
    {
     "data": {
      "image/png": "[encoded data removed]",
      "text/plain": [
       "<Figure size 1200x400 with 1 Axes>"
      ]
     },
     "metadata": {},
     "output_type": "display_data"
    }
   ],
   "source": [
    "#feed side temp\n",
    "plt.figure(figsize=(12, 4))\n",
    "plt.plot(solnfeed.x, solnfeed.y[6], label = 'from membrane side calculation')\n",
    "# plt.plot(solnfeed.x, Tfeedinitial, label = 'CFD estimate')\n",
    "plt.xlabel('z (m)')\n",
    "plt.ylabel('T (K)')\n",
    "plt.title('Temperature profile on feed side')"
   ]
  },
  {
   "cell_type": "code",
   "execution_count": 8,
   "id": "a7ead3d8",
   "metadata": {},
   "outputs": [
    {
     "name": "stdout",
     "output_type": "stream",
     "text": [
      "[ 2.74393758 25.86015018  9.65227501  3.7637874  53.01197465  3.49      ]\n",
      "0.8302018822176305\n",
      "0.7194566270655862\n"
     ]
    }
   ],
   "source": [
    "#calculation conversion of hydrogen\n",
    "print(sccmf)\n",
    "print((sccm0[0]-sccmf[0])/sccm0[0])\n",
    "\n",
    "#40% conversion to then 17% conversion\n",
    "\n",
    "print(9.65227501/(9.65227501+3.7637874))"
   ]
  }
 ],
 "metadata": {
  "kernelspec": {
   "display_name": "Python 3",
   "language": "python",
   "name": "python3"
  },
  "language_info": {
   "codemirror_mode": {
    "name": "ipython",
    "version": 3
   },
   "file_extension": ".py",
   "mimetype": "text/x-python",
   "name": "python",
   "nbconvert_exporter": "python",
   "pygments_lexer": "ipython3",
   "version": "3.11.9"
  }
 },
 "nbformat": 4,
 "nbformat_minor": 5
}
