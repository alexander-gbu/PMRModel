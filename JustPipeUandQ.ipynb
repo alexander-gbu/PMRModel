{
 "cells": [
  {
   "cell_type": "code",
   "execution_count": null,
   "id": "0f189d75",
   "metadata": {},
   "outputs": [],
   "source": [
    "''' \n",
    "- Solve with more stuff and maybe a reaction too\n",
    "- check if you use just perimeter is that works for the heat in the big file\n",
    "- CHECK IF YOUR MASS CONSERVATION EUQUATION IS EVEN RIGHT WITH THE PERIMETER THING\n",
    "'''\n",
    "\n",
    "from scipy.integrate import solve_bvp\n",
    "import numpy as np\n",
    "import matplotlib.pyplot as plt"
   ]
  },
  {
   "cell_type": "code",
   "execution_count": 134,
   "id": "9cec4004",
   "metadata": {},
   "outputs": [],
   "source": [
    "def heats(T):\n",
    "    #heats of reaction and heat capacity calculation from NIST\n",
    "    t = T/1000\n",
    "\n",
    "    #CH4\n",
    "    A =\t-0.703029\n",
    "    B =\t108.4773\n",
    "    C =\t-42.52157\n",
    "    D =\t5.862788\n",
    "    E =\t0.678565\n",
    "    F =\t-76.84376\n",
    "    G =\t158.7163\n",
    "    H =\t-74.87310\n",
    "\n",
    "    dH_CH4 = A*t + B*t**2/2 + C*t**3/3 + D*t**4/4 - E/t + F - H\n",
    "    Cp_CH4 = A + B*t + C*t**2 + D*t**3 + E/(t**2)\n",
    "\n",
    "    #H2O\n",
    "    A =   30.09200\n",
    "    B =   6.832514\n",
    "    C =   6.793435\n",
    "    D =  -2.534480\n",
    "    E =   0.082139\n",
    "    F =  -250.8810\n",
    "    G =   223.3967\n",
    "    H =  -241.8264\n",
    "\n",
    "    dH_H2O = A*t + B*t**2/2 + C*t**3/3 + D*t**4/4 - E/t + F - H\n",
    "    Cp_H2O = A + B*t + C*t**2 + D*t**3 + E/(t**2)\n",
    "\n",
    "    #CO\n",
    "    A =   25.56759\n",
    "    B =   6.096130\n",
    "    C =   4.054656\n",
    "    D =  -2.671301\n",
    "    E =   0.131021\n",
    "    F =  -118.0089\n",
    "    G =   227.3665\n",
    "    H = -110.5271\n",
    "\n",
    "    dH_CO = A*t + B*t**2/2 + C*t**3/3 + D*t**4/4 - E/t + F - H\n",
    "    Cp_CO = A + B*t + C*t**2 + D*t**3 + E/(t**2)\n",
    "\n",
    "    #CO2\n",
    "    A =   24.99735\n",
    "    B =   55.18696\n",
    "    C =  -33.69137\n",
    "    D =   7.948387\n",
    "    E =  -0.136638\n",
    "    F =  -403.6075\n",
    "    G =   228.2431\n",
    "    H =  -393.5224\n",
    "\n",
    "    dH_CO2 = A*t + B*t**2/2 + C*t**3/3 + D*t**4/4 - E/t + F - H\n",
    "    Cp_CO2 = A + B*t + C*t**2 + D*t**3 + E/(t**2)\n",
    "\n",
    "    #H2\n",
    "    A =  33.066178\n",
    "    B = -11.363417\n",
    "    C =  11.432816\n",
    "    D = -2.772874\n",
    "    E = -0.158558\n",
    "    F = -9.980797\n",
    "    G =  172.707974\n",
    "    H =  0.0\n",
    "\n",
    "    dH_H2 = A*t + B*t**2/2 + C*t**3/3 + D*t**4/4 - E/t + F - H\n",
    "    Cp_H2 = A + B*t + C*t**2 + D*t**3 + E/(t**2)\n",
    "\n",
    "    #Ar\n",
    "    A =\t20.78600\n",
    "    B =\t2.825911*10**-7\n",
    "    C =\t-1.464191*10**-7\n",
    "    D =\t1.092131*10**-8\n",
    "    E =\t-3.661371*10**-8\n",
    "    F =\t-6.197350\n",
    "    G =\t179.9990\n",
    "    H =\t0\n",
    "\n",
    "    dH_Ar = A*t + B*t**2/2 + C*t**3/3 + D*t**4/4 - E/t + F - H\n",
    "    Cp_Ar = A + B*t + C*t**2 + D*t**3 + E/(t**2) #J/mol K\n",
    "\n",
    "    dHsmr = (3*dH_H2 + dH_CO - dH_CH4 - dH_H2O + 206.1)*10**3 #J/mol\n",
    "    dHwgs = (dH_H2 + dH_CO2 - dH_CO - dH_H2O - 41.15)*10**3 #J/mol\n",
    "    # print(dHsmr)\n",
    "    # print(dHwgs)\n",
    "    # print([Cp_CH4, Cp_H2O, Cp_CO, Cp_CO2, Cp_H2])\n",
    "    return dHsmr, dHwgs, [Cp_CH4, Cp_H2O, Cp_CO, Cp_CO2, Cp_H2, Cp_Ar], [dH_CH4, dH_H2O, dH_CO, dH_CO2, dH_H2, dH_Ar]"
   ]
  },
  {
   "cell_type": "code",
   "execution_count": 135,
   "id": "3302f5e8",
   "metadata": {},
   "outputs": [],
   "source": [
    "#F*Cp*dT = q_surr''*Peri*dx = U(Ts - T)*Peri*dx       U is heat transfer coeff W/m2 K\n",
    "L = 1 #m\n",
    "R = 0.25 #m\n",
    "Peri = 2*np.pi*R #m\n",
    "\n",
    "Tin = 400 #K\n",
    "Ts = 298 #k\n",
    "\n",
    "U = 20 #W/m2k\n",
    "q = 10000 #W/m2\n",
    "\n",
    "F = 1 #mol/s\n",
    "\n",
    "Cp = 34.5"
   ]
  },
  {
   "cell_type": "code",
   "execution_count": 136,
   "id": "a611bf2f",
   "metadata": {},
   "outputs": [],
   "source": [
    "x_num = 1000\n",
    "dx = L/(x_num-1)\n",
    "x_pts = np.linspace(0,L,x_num)\n",
    "\n",
    "\n",
    "ig = np.full((1, x_num), Tin)\n",
    "\n",
    "# ODE function: dT/dx = q*Peri / (F*Cp)\n",
    "def ode(x, T):\n",
    "    _, _, Cps, _ = heats(T[0])\n",
    "    Cp = Cps[1]\n",
    "    dTdx = U*(-T+Ts)*Peri/(F*Cp) + q*Peri/(F*Cp)\n",
    "    return dTdx\n",
    "\n",
    "def bc(yleft, yright):\n",
    "    return np.array([yleft[0]-Tin])\n",
    "\n",
    "soln = solve_bvp(ode, bc, x_pts, ig, max_nodes=x_num, tol = 0.001)\n"
   ]
  },
  {
   "cell_type": "code",
   "execution_count": 137,
   "id": "d7785ea3",
   "metadata": {},
   "outputs": [
    {
     "data": {
      "text/plain": [
       "Text(0, 0.5, 'T (K)')"
      ]
     },
     "execution_count": 137,
     "metadata": {},
     "output_type": "execute_result"
    },
    {
     "data": {
      "image/png": "[encoded data removed]",
      "text/plain": [
       "<Figure size 1000x400 with 1 Axes>"
      ]
     },
     "metadata": {},
     "output_type": "display_data"
    }
   ],
   "source": [
    "plt.figure(figsize=(10, 4))\n",
    "plt.plot(soln.x, soln.y[0])\n",
    "plt.xlabel('z (m)')\n",
    "plt.ylabel('T (K)')"
   ]
  },
  {
   "cell_type": "code",
   "execution_count": 138,
   "id": "ca21ae50",
   "metadata": {},
   "outputs": [
    {
     "name": "stdout",
     "output_type": "stream",
     "text": [
      "8.26e+03 W\n",
      "8.27e+03 W\n",
      "heat balance off by 0.107%\n"
     ]
    }
   ],
   "source": [
    "#Enthalpy balance based on heats of formation\n",
    "_, _, Cpin, heatsin = heats(soln.y[0,0]) #kJ/mol\n",
    "_, _, Cpout, heatsout = heats(soln.y[0,-1]) #kJ/mol\n",
    "\n",
    "dx = L/(x_num-1)\n",
    "\n",
    "Qarray = U*(-soln.y[0]+Ts)*Peri*dx + q*Peri*dx\n",
    "Q = np.sum(Qarray)\n",
    "\n",
    "Hin = (heatsin[1] + -241.8)*10**3 * F\n",
    "Hout = (heatsout[1] + -241.8)*10**3 * F\n",
    "\n",
    "dH = Hout-Hin\n",
    "print(f'{dH:.3} W')\n",
    "print(f'{Q:.3} W')\n",
    "print(f'heat balance off by {abs(dH - Q)/Q *100:.4}%')"
   ]
  },
  {
   "cell_type": "code",
   "execution_count": 139,
   "id": "7363b675",
   "metadata": {},
   "outputs": [
    {
     "name": "stdout",
     "output_type": "stream",
     "text": [
      "8.26e+03 W\n",
      "8.27e+03 W\n",
      "heat balance off by 0.107%\n"
     ]
    }
   ],
   "source": [
    "#Enthalpy balance based on heats of formation\n",
    "_, _, Cpin, heatsin = heats(soln.y[0,0]) #kJ/mol\n",
    "_, _, Cpout, heatsout = heats(soln.y[0,-1]) #kJ/mol\n",
    "\n",
    "dx = L/(x_num-1)\n",
    "\n",
    "Qarray = U*(-soln.y[0]+Ts)*Peri*dx + q*Peri*dx\n",
    "Q = np.sum(Qarray)\n",
    "\n",
    "Hin = (heatsin[1] + 9.904)*10**3 * F\n",
    "Hout = (heatsout[1] + 9.904)*10**3 * F\n",
    "\n",
    "dH = Hout-Hin\n",
    "print(f'{dH:.3} W')\n",
    "print(f'{Q:.3} W')\n",
    "print(f'heat balance off by {abs(dH - Q)/Q *100:.4}%')"
   ]
  }
 ],
 "metadata": {
  "kernelspec": {
   "display_name": "Python 3",
   "language": "python",
   "name": "python3"
  },
  "language_info": {
   "codemirror_mode": {
    "name": "ipython",
    "version": 3
   },
   "file_extension": ".py",
   "mimetype": "text/x-python",
   "name": "python",
   "nbconvert_exporter": "python",
   "pygments_lexer": "ipython3",
   "version": "3.12.10"
  }
 },
 "nbformat": 4,
 "nbformat_minor": 5
}
