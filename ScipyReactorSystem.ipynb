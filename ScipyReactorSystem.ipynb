{
 "cells": [
  {
   "cell_type": "code",
   "execution_count": 2,
   "metadata": {},
   "outputs": [],
   "source": [
    "from scipy.integrate import solve_ivp, odeint\n",
    "import numpy as np\n",
    "import matplotlib.pyplot as plt"
   ]
  },
  {
   "cell_type": "code",
   "execution_count": 3,
   "metadata": {},
   "outputs": [
    {
     "name": "stdout",
     "output_type": "stream",
     "text": [
      "[0.20291311 0.60873933 0.         0.         0.12556504 0.06278252]\n"
     ]
    }
   ],
   "source": [
    "#reactor constants\n",
    "L = 0.0609 #m\n",
    "R_inner = 2.39/1000 #m\n",
    "R_outer = 3.5/1000 #m\n",
    "\n",
    "h2Removal = 0 #change to 1 if there is removal of hydrogen\n",
    "\n",
    "#gas flow constants\n",
    "T = 622+273 #K\n",
    "P = 1 #bar or atm\n",
    "\n",
    "sccm0 = np.array([16.16, 48.48, 0, 0, 10, 5])\n",
    "mols0 = sccm0/22400 * 60\n",
    "y0 = mols0/sum(mols0)\n",
    "print(y0)\n",
    "Ctot = P/(8.3144598 * 10**-5 * T)\n",
    "\n",
    "u0 = sum(sccm0) * 273 / T * P / 1 / 60 #cm^3/sec\n",
    "A = np.pi * ((R_outer*100)**2-(R_inner*100)**2) #cm^2 MIGHT HAVE TO ADJUST THE AREA CALC A BIT\n",
    "v0 = u0 / A / 100 #m/sec\n",
    "\n",
    "#rate equation constants\n",
    "Rgas = 8.314 #J / mol·K\n",
    "Easmr = 165.740 #kJ/mol\n",
    "Asmr = 1.68*10**8\n",
    "Eawgs = 89.23 #kJ/mol\n",
    "Awgs = 9.90*10**3\n",
    "\n",
    "Ku = 1\n",
    "\n",
    "I = 9 #curent in Amps\n",
    "F = 96485 #faradays constant\n",
    "Keqsmr = (101325/100000)**2 * np.exp(-26830/T + 30.114)\n",
    "Keqwgs = np.exp(4400/T - 4.036)"
   ]
  },
  {
   "cell_type": "code",
   "execution_count": 7,
   "metadata": {},
   "outputs": [
    {
     "ename": "TypeError",
     "evalue": "'float' object is not subscriptable",
     "output_type": "error",
     "traceback": [
      "\u001b[1;31m---------------------------------------------------------------------------\u001b[0m",
      "\u001b[1;31mTypeError\u001b[0m                                 Traceback (most recent call last)",
      "Cell \u001b[1;32mIn[7], line 28\u001b[0m\n\u001b[0;32m     25\u001b[0m     ar \u001b[38;5;241m=\u001b[39m \u001b[38;5;241m0\u001b[39m\n\u001b[0;32m     26\u001b[0m     \u001b[38;5;28;01mreturn\u001b[39;00m [ch4, h2o, co, co2, h2, ar]\n\u001b[1;32m---> 28\u001b[0m soln \u001b[38;5;241m=\u001b[39m \u001b[43modeint\u001b[49m\u001b[43m(\u001b[49m\u001b[43modes\u001b[49m\u001b[43m,\u001b[49m\u001b[43m \u001b[49m\u001b[43my0\u001b[49m\u001b[43m,\u001b[49m\u001b[43m \u001b[49m\u001b[43mx_pts\u001b[49m\u001b[43m)\u001b[49m\n",
      "File \u001b[1;32m~\\AppData\\Local\\Packages\\PythonSoftwareFoundation.Python.3.12_qbz5n2kfra8p0\\LocalCache\\local-packages\\Python312\\site-packages\\scipy\\integrate\\_odepack_py.py:254\u001b[0m, in \u001b[0;36modeint\u001b[1;34m(func, y0, t, args, Dfun, col_deriv, full_output, ml, mu, rtol, atol, tcrit, h0, hmax, hmin, ixpr, mxstep, mxhnil, mxordn, mxords, printmessg, tfirst)\u001b[0m\n\u001b[0;32m    251\u001b[0m y0 \u001b[38;5;241m=\u001b[39m copy(y0)\n\u001b[0;32m    253\u001b[0m \u001b[38;5;28;01mwith\u001b[39;00m ODE_LOCK:\n\u001b[1;32m--> 254\u001b[0m     output \u001b[38;5;241m=\u001b[39m \u001b[43m_odepack\u001b[49m\u001b[38;5;241;43m.\u001b[39;49m\u001b[43modeint\u001b[49m\u001b[43m(\u001b[49m\u001b[43mfunc\u001b[49m\u001b[43m,\u001b[49m\u001b[43m \u001b[49m\u001b[43my0\u001b[49m\u001b[43m,\u001b[49m\u001b[43m \u001b[49m\u001b[43mt\u001b[49m\u001b[43m,\u001b[49m\u001b[43m \u001b[49m\u001b[43margs\u001b[49m\u001b[43m,\u001b[49m\u001b[43m \u001b[49m\u001b[43mDfun\u001b[49m\u001b[43m,\u001b[49m\u001b[43m \u001b[49m\u001b[43mcol_deriv\u001b[49m\u001b[43m,\u001b[49m\u001b[43m \u001b[49m\u001b[43mml\u001b[49m\u001b[43m,\u001b[49m\u001b[43m \u001b[49m\u001b[43mmu\u001b[49m\u001b[43m,\u001b[49m\n\u001b[0;32m    255\u001b[0m \u001b[43m                            \u001b[49m\u001b[43mfull_output\u001b[49m\u001b[43m,\u001b[49m\u001b[43m \u001b[49m\u001b[43mrtol\u001b[49m\u001b[43m,\u001b[49m\u001b[43m \u001b[49m\u001b[43matol\u001b[49m\u001b[43m,\u001b[49m\u001b[43m \u001b[49m\u001b[43mtcrit\u001b[49m\u001b[43m,\u001b[49m\u001b[43m \u001b[49m\u001b[43mh0\u001b[49m\u001b[43m,\u001b[49m\u001b[43m \u001b[49m\u001b[43mhmax\u001b[49m\u001b[43m,\u001b[49m\u001b[43m \u001b[49m\u001b[43mhmin\u001b[49m\u001b[43m,\u001b[49m\n\u001b[0;32m    256\u001b[0m \u001b[43m                            \u001b[49m\u001b[43mixpr\u001b[49m\u001b[43m,\u001b[49m\u001b[43m \u001b[49m\u001b[43mmxstep\u001b[49m\u001b[43m,\u001b[49m\u001b[43m \u001b[49m\u001b[43mmxhnil\u001b[49m\u001b[43m,\u001b[49m\u001b[43m \u001b[49m\u001b[43mmxordn\u001b[49m\u001b[43m,\u001b[49m\u001b[43m \u001b[49m\u001b[43mmxords\u001b[49m\u001b[43m,\u001b[49m\n\u001b[0;32m    257\u001b[0m \u001b[43m                            \u001b[49m\u001b[38;5;28;43mint\u001b[39;49m\u001b[43m(\u001b[49m\u001b[38;5;28;43mbool\u001b[39;49m\u001b[43m(\u001b[49m\u001b[43mtfirst\u001b[49m\u001b[43m)\u001b[49m\u001b[43m)\u001b[49m\u001b[43m)\u001b[49m\n\u001b[0;32m    258\u001b[0m \u001b[38;5;28;01mif\u001b[39;00m output[\u001b[38;5;241m-\u001b[39m\u001b[38;5;241m1\u001b[39m] \u001b[38;5;241m<\u001b[39m \u001b[38;5;241m0\u001b[39m:\n\u001b[0;32m    259\u001b[0m     warning_msg \u001b[38;5;241m=\u001b[39m (\u001b[38;5;124mf\u001b[39m\u001b[38;5;124m\"\u001b[39m\u001b[38;5;132;01m{\u001b[39;00m_msgs[output[\u001b[38;5;241m-\u001b[39m\u001b[38;5;241m1\u001b[39m]]\u001b[38;5;132;01m}\u001b[39;00m\u001b[38;5;124m Run with full_output = 1 to \u001b[39m\u001b[38;5;124m\"\u001b[39m\n\u001b[0;32m    260\u001b[0m                    \u001b[38;5;124mf\u001b[39m\u001b[38;5;124m\"\u001b[39m\u001b[38;5;124mget quantitative information.\u001b[39m\u001b[38;5;124m\"\u001b[39m)\n",
      "Cell \u001b[1;32mIn[7], line 9\u001b[0m, in \u001b[0;36modes\u001b[1;34m(x, y)\u001b[0m\n\u001b[0;32m      7\u001b[0m \u001b[38;5;28;01mdef\u001b[39;00m\u001b[38;5;250m \u001b[39m\u001b[38;5;21modes\u001b[39m(x, y): \u001b[38;5;66;03m#dy/dt = f(x)\u001b[39;00m\n\u001b[0;32m      8\u001b[0m     \u001b[38;5;66;03m#NEED TO ADJUST THIS. THESE ARE NOT CONCENTRATIONS, THEY ARE MOL FRACTIONS\u001b[39;00m\n\u001b[1;32m----> 9\u001b[0m     Cch4 \u001b[38;5;241m=\u001b[39m \u001b[43my\u001b[49m\u001b[43m[\u001b[49m\u001b[38;5;241;43m0\u001b[39;49m\u001b[43m]\u001b[49m\n\u001b[0;32m     10\u001b[0m     Ch2o, Cco, Cco2, Ch2, Car \u001b[38;5;241m=\u001b[39m y[\u001b[38;5;241m1\u001b[39m], y[\u001b[38;5;241m2\u001b[39m], y[\u001b[38;5;241m3\u001b[39m], y[\u001b[38;5;241m4\u001b[39m], y[\u001b[38;5;241m5\u001b[39m]\n\u001b[0;32m     11\u001b[0m     \u001b[38;5;66;03m#JUST ADD TEMP AS A VARIABLE AND YOU ADD THE EQUATION AND CONSTANT IN Y\u001b[39;00m\n",
      "\u001b[1;31mTypeError\u001b[0m: 'float' object is not subscriptable"
     ]
    }
   ],
   "source": [
    "#solving the ODE system first\n",
    "\n",
    "x_num = 10\n",
    "\n",
    "x_pts = np.linspace(0,L,x_num)\n",
    "\n",
    "def odes(x, y): #dy/dt = f(x)\n",
    "    #NEED TO ADJUST THIS. THESE ARE NOT CONCENTRATIONS, THEY ARE MOL FRACTIONS\n",
    "    Cch4 = y[0]\n",
    "    Ch2o, Cco, Cco2, Ch2, Car = y[1], y[2], y[3], y[4], y[5]\n",
    "    #JUST ADD TEMP AS A VARIABLE AND YOU ADD THE EQUATION AND CONSTANT IN Y\n",
    "    \n",
    "    v = v0*(3*y0[1] - 2*Cch4)/y0[1] # v0*(1+2X)\n",
    "\n",
    "    rsmr = 2/R_outer*Ku*Asmr*np.exp(-Easmr*1000/Rgas/T)*(Cch4*Ch2o-(P**2)*Cco*(Ch2**3)/Keqsmr)/Ctot\n",
    "    rwgs = 2/R_outer*Ku*Asmr*np.exp(-Eawgs*1000/Rgas/T)*(Ch2o*Cco2-Cco*Ch2/Keqwgs)/Ctot\n",
    "    rh2r = I/(2*F*L)/Ctot #have not confirmed if this is correct\n",
    "\n",
    "    #for the jacobian, the i is the component, and then j (ignored here) is the axis (so like are we moving in x-direction or time)\n",
    "    ch4 = (-rsmr)/v\n",
    "    h2o = (-rsmr - rwgs)/v\n",
    "    co = (rsmr - rwgs)/v\n",
    "    co2 = (rwgs)/v\n",
    "    h2 = (3*rsmr + rwgs + h2Removal*rh2r)/v\n",
    "    ar = 0\n",
    "    return [ch4, h2o, co, co2, h2, ar]\n",
    "\n",
    "soln = odeint(odes, y0, x_pts)"
   ]
  }
 ],
 "metadata": {
  "kernelspec": {
   "display_name": "Python 3",
   "language": "python",
   "name": "python3"
  },
  "language_info": {
   "codemirror_mode": {
    "name": "ipython",
    "version": 3
   },
   "file_extension": ".py",
   "mimetype": "text/x-python",
   "name": "python",
   "nbconvert_exporter": "python",
   "pygments_lexer": "ipython3",
   "version": "3.12.9"
  }
 },
 "nbformat": 4,
 "nbformat_minor": 2
}
