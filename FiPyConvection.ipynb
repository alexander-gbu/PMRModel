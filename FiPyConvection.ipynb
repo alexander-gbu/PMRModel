{
 "cells": [
  {
   "cell_type": "code",
   "execution_count": 2,
   "metadata": {},
   "outputs": [],
   "source": [
    "from fipy import Variable, FaceVariable, CellVariable, Grid1D, TransientTerm, DiffusionTerm, ConvectionTerm, PowerLawConvectionTerm, FirstOrderAdvectionTerm, AdvectionTerm, Viewer\n",
    "from fipy.tools import numerix"
   ]
  },
  {
   "cell_type": "code",
   "execution_count": 7,
   "metadata": {},
   "outputs": [
    {
     "ename": "TermMultiplyError",
     "evalue": "Must multiply terms by int or float.",
     "output_type": "error",
     "traceback": [
      "\u001b[1;31m---------------------------------------------------------------------------\u001b[0m",
      "\u001b[1;31mTermMultiplyError\u001b[0m                         Traceback (most recent call last)",
      "Cell \u001b[1;32mIn[7], line 21\u001b[0m\n\u001b[0;32m     19\u001b[0m \u001b[38;5;66;03m#eq = DiffusionTerm(coeff=diffCoeff) + FirstOrderAdvectionTerm(coeff=(1*(1-phi)))\u001b[39;00m\n\u001b[0;32m     20\u001b[0m convectionCoeff \u001b[38;5;241m=\u001b[39m FaceVariable(mesh\u001b[38;5;241m=\u001b[39mmesh, value\u001b[38;5;241m=\u001b[39m\u001b[38;5;241m1\u001b[39m \u001b[38;5;241m-\u001b[39m phi\u001b[38;5;241m.\u001b[39marithmeticFaceValue)\n\u001b[1;32m---> 21\u001b[0m eq \u001b[38;5;241m=\u001b[39m \u001b[43mTransientTerm\u001b[49m\u001b[43m(\u001b[49m\u001b[43mcoeff\u001b[49m\u001b[38;5;241;43m=\u001b[39;49m\u001b[38;5;241;43m1\u001b[39;49m\u001b[43m)\u001b[49m\u001b[38;5;241;43m/\u001b[39;49m\u001b[43m(\u001b[49m\u001b[38;5;241;43m0.1\u001b[39;49m\u001b[38;5;241;43m+\u001b[39;49m\u001b[43mphi\u001b[49m\u001b[43m)\u001b[49m \u001b[38;5;241m+\u001b[39m ConvectionTerm(coeff\u001b[38;5;241m=\u001b[39m(\u001b[38;5;241m1\u001b[39m,)) \u001b[38;5;241m-\u001b[39m \u001b[38;5;241m0.5\u001b[39m\u001b[38;5;241m/\u001b[39m(\u001b[38;5;241m0.1\u001b[39m\u001b[38;5;241m+\u001b[39mphi)\n\u001b[0;32m     23\u001b[0m timeStep \u001b[38;5;241m=\u001b[39m \u001b[38;5;241m0.1\u001b[39m\n\u001b[0;32m     24\u001b[0m steps \u001b[38;5;241m=\u001b[39m \u001b[38;5;241m50\u001b[39m\n",
      "File \u001b[1;32m~\\AppData\\Local\\Packages\\PythonSoftwareFoundation.Python.3.12_qbz5n2kfra8p0\\LocalCache\\local-packages\\Python312\\site-packages\\fipy\\terms\\term.py:480\u001b[0m, in \u001b[0;36mTerm.__truediv__\u001b[1;34m(self, other)\u001b[0m\n\u001b[0;32m    479\u001b[0m \u001b[38;5;28;01mdef\u001b[39;00m\u001b[38;5;250m \u001b[39m\u001b[38;5;21m__truediv__\u001b[39m(\u001b[38;5;28mself\u001b[39m, other):\n\u001b[1;32m--> 480\u001b[0m     \u001b[38;5;28;01mreturn\u001b[39;00m \u001b[43m(\u001b[49m\u001b[38;5;241;43m1\u001b[39;49m\u001b[43m \u001b[49m\u001b[38;5;241;43m/\u001b[39;49m\u001b[43m \u001b[49m\u001b[43mother\u001b[49m\u001b[43m)\u001b[49m\u001b[43m \u001b[49m\u001b[38;5;241;43m*\u001b[39;49m\u001b[43m \u001b[49m\u001b[38;5;28;43mself\u001b[39;49m\n",
      "File \u001b[1;32m~\\AppData\\Local\\Packages\\PythonSoftwareFoundation.Python.3.12_qbz5n2kfra8p0\\LocalCache\\local-packages\\Python312\\site-packages\\fipy\\variables\\variable.py:1118\u001b[0m, in \u001b[0;36mVariable.__mul__\u001b[1;34m(self, other)\u001b[0m\n\u001b[0;32m   1116\u001b[0m \u001b[38;5;28;01mfrom\u001b[39;00m\u001b[38;5;250m \u001b[39m\u001b[38;5;21;01mfipy\u001b[39;00m\u001b[38;5;21;01m.\u001b[39;00m\u001b[38;5;21;01mterms\u001b[39;00m\u001b[38;5;21;01m.\u001b[39;00m\u001b[38;5;21;01mterm\u001b[39;00m\u001b[38;5;250m \u001b[39m\u001b[38;5;28;01mimport\u001b[39;00m Term\n\u001b[0;32m   1117\u001b[0m \u001b[38;5;28;01mif\u001b[39;00m \u001b[38;5;28misinstance\u001b[39m(other, Term):\n\u001b[1;32m-> 1118\u001b[0m     \u001b[38;5;28;01mreturn\u001b[39;00m \u001b[43mother\u001b[49m\u001b[43m \u001b[49m\u001b[38;5;241;43m*\u001b[39;49m\u001b[43m \u001b[49m\u001b[38;5;28;43mself\u001b[39;49m\n\u001b[0;32m   1119\u001b[0m \u001b[38;5;28;01melse\u001b[39;00m:\n\u001b[0;32m   1120\u001b[0m     \u001b[38;5;28;01mreturn\u001b[39;00m \u001b[38;5;28mself\u001b[39m\u001b[38;5;241m.\u001b[39m_BinaryOperatorVariable(\u001b[38;5;28;01mlambda\u001b[39;00m a, b: a\u001b[38;5;241m*\u001b[39mb, other)\n",
      "File \u001b[1;32m~\\AppData\\Local\\Packages\\PythonSoftwareFoundation.Python.3.12_qbz5n2kfra8p0\\LocalCache\\local-packages\\Python312\\site-packages\\fipy\\terms\\nonDiffusionTerm.py:48\u001b[0m, in \u001b[0;36m_NonDiffusionTerm.__mul__\u001b[1;34m(self, other)\u001b[0m\n\u001b[0;32m     46\u001b[0m     \u001b[38;5;28;01mreturn\u001b[39;00m \u001b[38;5;28mself\u001b[39m\u001b[38;5;241m.\u001b[39m\u001b[38;5;18m__class__\u001b[39m(coeff\u001b[38;5;241m=\u001b[39mother \u001b[38;5;241m*\u001b[39m coeff, var\u001b[38;5;241m=\u001b[39m\u001b[38;5;28mself\u001b[39m\u001b[38;5;241m.\u001b[39mvar)\n\u001b[0;32m     47\u001b[0m \u001b[38;5;28;01melse\u001b[39;00m:\n\u001b[1;32m---> 48\u001b[0m     \u001b[38;5;28;01mraise\u001b[39;00m TermMultiplyError\n",
      "\u001b[1;31mTermMultiplyError\u001b[0m: Must multiply terms by int or float."
     ]
    }
   ],
   "source": [
    "#solving del(D*del(phi) + u*phi)\n",
    "L = 10\n",
    "nx = 10\n",
    "mesh = Grid1D(dx=L / nx, nx=nx)\n",
    "\n",
    "phi = CellVariable(mesh=mesh, name=\"solution variable\")\n",
    "\n",
    "diffCoeff = 1\n",
    "\n",
    "#boundary conditions\n",
    "valueLeft = 1\n",
    "valueRight = 0.5\n",
    "phi.constrain(valueLeft, mesh.facesLeft)\n",
    "phi.constrain(valueRight, mesh.facesRight)\n",
    "\n",
    "#reset the initial conditions\n",
    "phi.setValue(0)\n",
    "\n",
    "#eq = DiffusionTerm(coeff=diffCoeff) + FirstOrderAdvectionTerm(coeff=(1*(1-phi)))\n",
    "convectionCoeff = FaceVariable(mesh=mesh, value=1 - phi.arithmeticFaceValue)\n",
    "eq = TransientTerm(coeff=1)/(0.1+phi) + ConvectionTerm(coeff=(1,)) - 0.5/(0.1+phi)\n",
    "\n",
    "timeStep = 0.1\n",
    "steps = 50\n",
    "\n",
    "for step in range(steps): \n",
    "    eq.solve(var=phi, dt=timeStep)\n",
    "\n",
    "viewer = Viewer(vars=phi)"
   ]
  },
  {
   "cell_type": "code",
   "execution_count": null,
   "metadata": {},
   "outputs": [],
   "source": [
    "import deepxde as dde\n",
    "import numpy as np\n",
    "import matplotlib.pyplot as plt"
   ]
  },
  {
   "cell_type": "code",
   "execution_count": null,
   "metadata": {},
   "outputs": [],
   "source": [
    "geom = dde.geometry.Interval(0,10)\n",
    "\n",
    "def ode(x, y):\n",
    "    dydx = dde.grad.jacobian(y, x)\n",
    "    return v0*(1-y)*dydx\n"
   ]
  },
  {
   "cell_type": "code",
   "execution_count": 43,
   "metadata": {},
   "outputs": [
    {
     "data": {
      "image/png": "[encoded data removed]",
      "text/plain": [
       "<Figure size 480x480 with 1 Axes>"
      ]
     },
     "metadata": {},
     "output_type": "display_data"
    }
   ],
   "source": [
    "L = 10\n",
    "nx = 10\n",
    "mesh = Grid1D(dx=L / nx, nx=nx)\n",
    "\n",
    "phi = CellVariable(mesh=mesh, name=\"solution variable\")\n",
    "\n",
    "diffCoeff = 1\n",
    "\n",
    "#boundary conditions\n",
    "valueLeft = 1\n",
    "valueRight = 0\n",
    "phi.constrain(valueLeft, mesh.facesLeft)\n",
    "phi.constrain(valueRight, mesh.facesRight)\n",
    "\n",
    "#reset the initial conditions\n",
    "phi.setValue(0)\n",
    "\n",
    "eq = DiffusionTerm(coeff=diffCoeff)\n",
    "eq.solve(var=phi)\n",
    "\n",
    "viewer = Viewer(vars=phi, datamin=0., datamax=1.)"
   ]
  }
 ],
 "metadata": {
  "kernelspec": {
   "display_name": "Python 3",
   "language": "python",
   "name": "python3"
  },
  "language_info": {
   "codemirror_mode": {
    "name": "ipython",
    "version": 3
   },
   "file_extension": ".py",
   "mimetype": "text/x-python",
   "name": "python",
   "nbconvert_exporter": "python",
   "pygments_lexer": "ipython3",
   "version": "3.12.9"
  }
 },
 "nbformat": 4,
 "nbformat_minor": 2
}
