{
 "cells": [
  {
   "cell_type": "code",
   "execution_count": null,
   "metadata": {},
   "outputs": [],
   "source": [
    "#2D isothermal cylindrical SS and just SMR\n",
    "from scipy.integrate import solve_bvp, solve_ivp, odeint\n",
    "import numpy as np\n",
    "import matplotlib.pyplot as plt"
   ]
  },
  {
   "cell_type": "code",
   "execution_count": null,
   "metadata": {},
   "outputs": [],
   "source": [
    "num_z, num_x = 10, 10\n",
    "L, R = 1.0, 1.0  # Dimensions of the 2D domain CAN ADD THE LENGTH AND RADIUS LATER\n",
    "nz, nx = num_z, num_x+2   # Number of spatial grid points with 2 imaginary nodes\n",
    "dz, dx = L / (nz - 1), R / (nx - 1)  # Spatial step sizes\n",
    "z = np.linspace(0, L, nz)\n",
    "x = np.linspace(0, R, nx)\n",
    "\n",
    "D = 10^-3 #diffusion coefficient\n",
    "\n",
    "u_init = np.zeros((6, len(x), len(z))).flatten() #THE NUMBER OF COMPONENTS\n",
    "\n",
    "def pde(t,y):\n",
    "    y = y.reshape((6, nx, nz)) #THE NUMBER OF COMPONENTS\n",
    "    dydx2 = np.zeros_like(y) #z ,x\n",
    "    dydz = np.zeros_like(y)\n",
    "    dydt = np.zeros_like(y)\n",
    "\n",
    "    #MAYBE I NEED TO RESET THE BOUNDARY CONDITIONS IN HERE\n",
    "    y[0,:,0] = 0.6\n",
    "    y[1,:,0] = 1\n",
    "\n",
    "    y[:,0,:] = y[:,1,:] #makes it so that there is no flux on bottom boundary (imaginary point in y)\n",
    "    y[:,-1,:] = 0 #change the flux at this boundary to be the reaction later\n",
    "\n",
    "    dydz[:,1:-1,1:] = (y[:,1:-1,1:] - y[:,1:-1,:-1])/dz\n",
    "    dydx2[:,1:-1,:] = (y[:,2:, :] - 2 * y[:,1:-1, :] + y[:,:-2, :]) / dx**2\n",
    "    \n",
    "    dydt[0,1:-1,:] = D1*dydx2[0,1:-1,:] - v0*dydz[0,1:-1,:]\n",
    "    dydt[1,1:-1,:] = D2*dydx2[1,1:-1,:] - v0*dydz[1,1:-1,:]\n",
    "\n",
    "    return dydt.flatten()\n"
   ]
  }
 ],
 "metadata": {
  "language_info": {
   "name": "python"
  }
 },
 "nbformat": 4,
 "nbformat_minor": 2
}
